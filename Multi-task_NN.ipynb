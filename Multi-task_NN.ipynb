{
 "cells": [
  {
   "cell_type": "code",
   "execution_count": 4,
   "metadata": {
    "collapsed": true
   },
   "outputs": [],
   "source": [
    "import warnings\n",
    "warnings.filterwarnings(\"ignore\")\n",
    "\n",
    "from sklearn.preprocessing import LabelEncoder\n",
    "import tensorflow as tf\n",
    "import pandas as pd\n",
    "import numpy as np\n",
    "import datetime\n",
    "import time\n",
    "\n",
    "import load_data"
   ]
  },
  {
   "cell_type": "code",
   "execution_count": 13,
   "metadata": {
    "collapsed": true
   },
   "outputs": [],
   "source": [
    "def fc_layer(A_prev, size_in, size_out, name=\"fully-connected\"):\n",
    "    with tf.name_scope(name):\n",
    "        w = tf.Variable(tf.truncated_normal([size_in, size_out], stddev=0.1))\n",
    "        b = tf.Variable(tf.constant(0.1, shape=[size_out]))\n",
    "        act = tf.matmul(A_prev, w) + b\n",
    "        tf.summary.histogram(\"weights\", w)\n",
    "        tf.summary.histogram(\"biases\", b)\n",
    "        tf.summary.histogram(\"activations\", act)\n",
    "        return act, w, b\n",
    "\n",
    "\n",
    "def build_model(x, N_IN, N_HIDDEN, N_OUT):\n",
    "    parameters = {}\n",
    "    y_pred = {}\n",
    "    a1, w1, b1 = fc_layer(x, N_IN, N_HIDDEN, name=\"fc\")\n",
    "    parameters[\"a1\"] = a1\n",
    "    parameters[\"w1\"] = w1\n",
    "    parameters[\"b1\"] = b1\n",
    "    hidden = tf.nn.relu(a1, name=\"hidden\")\n",
    "    for label, n_out in N_OUT.items():\n",
    "        y, w, b = fc_layer(hidden, N_HIDDEN, N_OUT[label], name=\"softmax_\"+label)\n",
    "        y_pred[label] = y\n",
    "        parameters[\"w_\" + label] = w\n",
    "        parameters[\"b_\" + label] = b\n",
    "    return y_pred, parameters\n",
    "\n",
    "\n",
    "def feed_forward(x, labels, parameters):\n",
    "    y_pred = {}\n",
    "    w1 = parameters[\"w1\"]\n",
    "    b1 = parameters[\"b1\"]\n",
    "    hidden = tf.nn.relu(tf.matmul(x, w1) + b1)\n",
    "    for label in labels:\n",
    "        w = parameters[\"w_\"+label]\n",
    "        b = parameters[\"b_\"+label]\n",
    "        y_pred[label] = tf.matmul(hidden, w) + b\n",
    "    return y_pred\n",
    "    \n",
    "    \n",
    "def back_prop(y_true, y_pred, learning_rate):\n",
    "    sum_cross_entropy = 0\n",
    "    for label in y_true.keys():\n",
    "        sum_cross_entropy += tf.nn.softmax_cross_entropy_with_logits(\n",
    "            labels=y_true[label], logits=y_pred[label], name=\"loss_\"+label)\n",
    "    tf.summary.scalar(\"cross_entropy_loss\", sum_cross_entropy)\n",
    "    train_step = tf.train.AdamOptimizer(learning_rate).minimize(sum_cross_entropy)\n",
    "    return train_step\n",
    "\n",
    "\n",
    "def accuracy(y_pred, y_true, name=\"\"):\n",
    "    accuracy = {}\n",
    "    summary = {}\n",
    "    for label in y_pred.keys():\n",
    "        correct_prediction = tf.equal(tf.argmax(y_pred[label], 1), \n",
    "                                      tf.argmax(y_true[label], 1))\n",
    "        accuracy[label] = tf.reduce_mean(tf.cast(correct_prediction, tf.float32))\n",
    "        summary[label] = tf.summary.scalar(name+label, accuracy[label])\n",
    "    return accuracy, summary\n",
    "\n",
    "\n",
    "def train_model(data, labels=[\"tissue\", \"tumor\", \"gender\"], \n",
    "                batch_size=128, num_epoch=1000, learning_rate=1e-3, extra=\"\"):\n",
    "    # set up parameters\n",
    "    tf.reset_default_graph()\n",
    "    LOGDIR = \"/tmp/tcga_{0}/\".format(str(datetime.datetime.today().date()))\n",
    "    N_IN = data.train.num_features\n",
    "    N_OUT = data.train.label_classes\n",
    "    N_HIDDEN = int(np.mean(N_IN + sum(N_OUT.values()))/4)\n",
    "    \n",
    "    # set up train step and training accuracy\n",
    "    (train_batch, train_iter, val_all, val_iter, \n",
    "        train_all, train_iter_all) = data.prep_train_batch(batch_size=batch_size)\n",
    "    \n",
    "    x = train_batch[\"X\"]\n",
    "    y_true = {key: value for key, value in train_batch.items() if key != \"X\"}\n",
    "    y_pred, parameters = build_model(x, N_IN, N_HIDDEN, N_OUT)\n",
    "    train_step = back_prop(y_true, y_pred, learning_rate)\n",
    "    \n",
    "    # set up train and test accuracy\n",
    "    x_train_all = train_all[\"X\"]\n",
    "    y_train_all_true = {key: value for key, value in train_all.items() if key != \"X\"}\n",
    "    y_train_all_pred = feed_forward(x_train_all, labels, parameters)\n",
    "    train_accuracy, train_summ = accuracy(y_train_all_true, \n",
    "                                          y_train_all_pred, name=\"train_accuracy_\")\n",
    "    \n",
    "    x_val = val_all[\"X\"]\n",
    "    y_val_true = {key: value for key, value in val_all.items() if key != \"X\"}\n",
    "    y_val_pred = feed_forward(x_val, labels, parameters)\n",
    "    val_accuracy, val_summ = accuracy(y_val_true, y_val_pred, name=\"val_accuracy_\")\n",
    "\n",
    "    \n",
    "    # prepare session and summary writer\n",
    "    sess = tf.Session()\n",
    "    summ = tf.summary.merge_all()\n",
    "    writer = tf.summary.FileWriter(LOGDIR + \"pca_{0}\".format(extra))\n",
    "    writer.add_graph(sess.graph)\n",
    "    \n",
    "    # initializing\n",
    "    t0 = time.time()\n",
    "    sess.run(tf.global_variables_initializer())\n",
    "    \n",
    "    \n",
    "    # training\n",
    "    for epoch in range(num_epoch):\n",
    "        sess.run([train_iter.initializer])\n",
    "        try:\n",
    "            while True:\n",
    "                sess.run(train_step)\n",
    "        except tf.errors.OutOfRangeError:\n",
    "            sess.run([train_iter_all.initializer, val_iter.initializer])\n",
    "            [train_accu, train_s, val_accu, val_s] = sess.run(\n",
    "                [train_accuracy, train_summ, val_accuracy, val_summ])\n",
    "            for label_name in labels:\n",
    "                writer.add_summary(train_s[label_name], epoch)\n",
    "                writer.add_summary(val_s[label_name], epoch)\n",
    "            if epoch % 100 == 0:\n",
    "                print(\"epoch\", epoch)\n",
    "                print(\"training accuracy:\\n\", train_accu, \n",
    "                      \"\\nvalidation accuracy\\n\", val_accu)\n",
    "    print(\"training time:\", time.time() - t0)\n",
    "    sess.close()"
   ]
  },
  {
   "cell_type": "code",
   "execution_count": null,
   "metadata": {
    "scrolled": false
   },
   "outputs": [],
   "source": [
    "for PCA_variance in [0.6, 0.7, 0.8, 0.9]:\n",
    "    print(PCA_variance)\n",
    "    tcga = load_data.read_data_sets(\"./data/mRNA_PCA_{0}_variance_MinMaxScaled.csv\".format(PCA_variance))\n",
    "    train_model(tcga, extra=PCA_variance)"
   ]
  },
  {
   "cell_type": "code",
   "execution_count": null,
   "metadata": {
    "collapsed": true,
    "scrolled": false
   },
   "outputs": [],
   "source": [
    "tcga = load_data.read_data_sets(\"./data/mRNA_lognorm_MinMaxScaled.csv\")"
   ]
  },
  {
   "cell_type": "code",
   "execution_count": null,
   "metadata": {
    "collapsed": true,
    "scrolled": false
   },
   "outputs": [],
   "source": [
    "train_model(tcga, extra=\"all\")"
   ]
  }
 ],
 "metadata": {
  "kernelspec": {
   "display_name": "Python 3",
   "language": "python",
   "name": "python3"
  },
  "language_info": {
   "codemirror_mode": {
    "name": "ipython",
    "version": 3
   },
   "file_extension": ".py",
   "mimetype": "text/x-python",
   "name": "python",
   "nbconvert_exporter": "python",
   "pygments_lexer": "ipython3",
   "version": "3.6.2"
  }
 },
 "nbformat": 4,
 "nbformat_minor": 2
}
