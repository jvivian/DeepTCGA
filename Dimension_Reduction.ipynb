{
 "cells": [
  {
   "cell_type": "code",
   "execution_count": 1,
   "metadata": {
    "collapsed": true
   },
   "outputs": [],
   "source": [
    "import pandas as pd\n",
    "import numpy as np\n",
    "import time\n",
    "from matplotlib import pyplot as plt\n",
    "from sklearn.decomposition import PCA, KernelPCA\n",
    "from sklearn.preprocessing import MinMaxScaler, MaxAbsScaler\n",
    "\n",
    "%matplotlib inline"
   ]
  },
  {
   "cell_type": "markdown",
   "metadata": {},
   "source": [
    "## PCA"
   ]
  },
  {
   "cell_type": "code",
   "execution_count": 2,
   "metadata": {},
   "outputs": [
    {
     "name": "stdout",
     "output_type": "stream",
     "text": [
      "loading matrix takes 81.24846196174622 seconds\n"
     ]
    }
   ],
   "source": [
    "t0 = time.time()\n",
    "df = pd.read_csv(\"./data/mRNA_cleaned_labeled_all.csv\", index_col=\"sample_id\")\n",
    "print(\"loading matrix takes {0} seconds\".format(time.time()-t0))"
   ]
  },
  {
   "cell_type": "code",
   "execution_count": 3,
   "metadata": {},
   "outputs": [
    {
     "name": "stdout",
     "output_type": "stream",
     "text": [
      "fitting PCA to this matrix takes 801.0095572471619 seconds\n"
     ]
    }
   ],
   "source": [
    "pca = PCA()\n",
    "X = df[df.columns[3:]]\n",
    "t0 = time.time()\n",
    "pca.fit(X)\n",
    "print(\"fitting PCA to this matrix takes {0} seconds\".format(time.time()-t0))"
   ]
  },
  {
   "cell_type": "code",
   "execution_count": 5,
   "metadata": {},
   "outputs": [
    {
     "data": {
      "text/plain": [
       "<matplotlib.text.Text at 0x7f16d303c128>"
      ]
     },
     "execution_count": 5,
     "metadata": {},
     "output_type": "execute_result"
    },
    {
     "data": {
      "image/png": "[encoded data removed]",
      "text/plain": [
       "<matplotlib.figure.Figure at 0x7f174c4b97f0>"
      ]
     },
     "metadata": {},
     "output_type": "display_data"
    }
   ],
   "source": [
    "plt.plot(np.cumsum(pca.explained_variance_ratio_)[:200])\n",
    "plt.title(\"variance explained\")\n",
    "plt.xlabel(\"number of components\")"
   ]
  },
  {
   "cell_type": "code",
   "execution_count": 27,
   "metadata": {},
   "outputs": [
    {
     "name": "stdout",
     "output_type": "stream",
     "text": [
      "19\n",
      "50\n",
      "199\n",
      "993\n",
      "5001\n"
     ]
    }
   ],
   "source": [
    "# get number of components where 60%, 70%, 80% and 90% of of variations are preserved\n",
    "\n",
    "def get_n_component_for_x_variance(x, variance_list):\n",
    "    for i, variance in enumerate(variance_list):\n",
    "        if variance > x:\n",
    "            return i \n",
    "variance_preserved = np.cumsum(pca.explained_variance_ratio_)\n",
    "\n",
    "for variance in [0.6,0.7,0.8,0.9, 0.99]:\n",
    "    print(get_n_component_for_x_variance(variance, variance_preserved))"
   ]
  },
  {
   "cell_type": "code",
   "execution_count": 28,
   "metadata": {},
   "outputs": [],
   "source": [
    "X_tranformed = pca.transform(X)"
   ]
  },
  {
   "cell_type": "code",
   "execution_count": 50,
   "metadata": {},
   "outputs": [],
   "source": [
    "for n in [20, 50, 200, 1000]:\n",
    "    df_PCA = pd.DataFrame(X_tranformed[:, :n], index=df.index)\n",
    "    label_columns = [i for i in df.columns if \"label\" in i]\n",
    "    df_PCA[label_columns] = df[label_columns]\n",
    "    df_PCA = df_PCA[label_columns + list(range(n))]\n",
    "    df_PCA.to_csv(\"./data/mRNA_PCA_{0}_components.csv\".format(n))"
   ]
  },
  {
   "cell_type": "code",
   "execution_count": null,
   "metadata": {
    "collapsed": true
   },
   "outputs": [],
   "source": []
  }
 ],
 "metadata": {
  "kernelspec": {
   "display_name": "Python 3",
   "language": "python",
   "name": "python3"
  },
  "language_info": {
   "codemirror_mode": {
    "name": "ipython",
    "version": 3
   },
   "file_extension": ".py",
   "mimetype": "text/x-python",
   "name": "python",
   "nbconvert_exporter": "python",
   "pygments_lexer": "ipython3",
   "version": "3.6.2"
  }
 },
 "nbformat": 4,
 "nbformat_minor": 2
}
