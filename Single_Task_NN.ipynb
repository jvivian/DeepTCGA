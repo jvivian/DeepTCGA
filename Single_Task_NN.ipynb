{
 "cells": [
  {
   "cell_type": "code",
   "execution_count": 20,
   "metadata": {
    "collapsed": true
   },
   "outputs": [],
   "source": [
    "import warnings\n",
    "warnings.filterwarnings(\"ignore\")\n",
    "\n",
    "from sklearn.preprocessing import LabelEncoder\n",
    "import tensorflow as tf\n",
    "import pandas as pd\n",
    "import numpy as np\n",
    "\n",
    "import load_data"
   ]
  },
  {
   "cell_type": "markdown",
   "metadata": {},
   "source": [
    "### Simple softmax"
   ]
  },
  {
   "cell_type": "code",
   "execution_count": 55,
   "metadata": {
    "collapsed": true
   },
   "outputs": [],
   "source": [
    "# Input 20 features (60% PCA variance), output 32 tissue types\n",
    "x = tf.placeholder(tf.float32, [None, 20])\n",
    "W = tf.Variable(tf.zeros([20, 32]))\n",
    "b = tf.Variable(tf.zeros([32]))\n",
    "y = tf.nn.softmax(tf.matmul(x, W) + b)"
   ]
  },
  {
   "cell_type": "code",
   "execution_count": 56,
   "metadata": {},
   "outputs": [],
   "source": [
    "y_ = tf.placeholder(tf.float32, [None, 32])\n",
    "cross_entropy = tf.reduce_mean(\n",
    "    tf.nn.softmax_cross_entropy_with_logits(labels=y_, logits=y))\n",
    "train_step = tf.train.AdamOptimizer(1e-3).minimize(cross_entropy)"
   ]
  },
  {
   "cell_type": "code",
   "execution_count": 57,
   "metadata": {},
   "outputs": [
    {
     "name": "stdout",
     "output_type": "stream",
     "text": [
      "epoch=5, train accuracy=0.8700000047683716, test acurracy=0.8535681366920471\n",
      "epoch=10, train accuracy=0.8899999856948853, test acurracy=0.8832252025604248\n",
      "epoch=15, train accuracy=0.9399999976158142, test acurracy=0.8841519951820374\n",
      "epoch=20, train accuracy=0.8600000143051147, test acurracy=0.8878591060638428\n"
     ]
    }
   ],
   "source": [
    "tcga = load_data.read_data_sets(\"./data/mRNA_PCA_20_components.csv\", \"label_tissue\")\n",
    "sess = tf.InteractiveSession()\n",
    "init = tf.global_variables_initializer()\n",
    "init.run()\n",
    "epoch = 0\n",
    "while tcga.train.epochs_completed < 20:\n",
    "    batch_xs, batch_ys = tcga.train.next_batch(100)\n",
    "    sess.run(train_step, feed_dict={x: batch_xs, y_: batch_ys})\n",
    "    if tcga.train.epochs_completed > epoch and epoch % 5 == 0:\n",
    "        epoch += 5\n",
    "        correct_prediction = tf.equal(tf.argmax(y,1), tf.argmax(y_,1))\n",
    "        accuracy = tf.reduce_mean(tf.cast(correct_prediction, tf.float32))\n",
    "        train_accuracy = sess.run(accuracy, feed_dict={x: batch_xs, y_: batch_ys})\n",
    "        test_accuracy = sess.run(accuracy, feed_dict={x: tcga.test.X, y_: tcga.test.y})\n",
    "        print(\"epoch={0}, train accuracy={1}, test acurracy={2}\".format(\n",
    "            epoch, train_accuracy, test_accuracy))"
   ]
  },
  {
   "cell_type": "markdown",
   "metadata": {},
   "source": [
    "### One hidden layer"
   ]
  },
  {
   "cell_type": "code",
   "execution_count": 66,
   "metadata": {
    "collapsed": true
   },
   "outputs": [],
   "source": [
    "def weight_variable(shape):\n",
    "    initial=tf.truncated_normal(shape, stddev=0.1)\n",
    "    return tf.Variable(initial)\n",
    "\n",
    "def bias_variable(shape):\n",
    "    initial = tf.constant(0.1, shape=shape)\n",
    "    return tf.Variable(initial)"
   ]
  },
  {
   "cell_type": "code",
   "execution_count": 67,
   "metadata": {},
   "outputs": [],
   "source": [
    "# fully connected layer\n",
    "x = tf.placeholder(tf.float32, [None, 20])\n",
    "W1 = weight_variable([20, 10])\n",
    "b1 = bias_variable([10])\n",
    "fc1 = tf.nn.relu(tf.matmul(x, W1) + b1)\n",
    "\n",
    "W2 = weight_variable([10, 32])\n",
    "b2 = bias_variable([32])\n",
    "y_nn = tf.matmul(fc1, W2) + b2"
   ]
  },
  {
   "cell_type": "code",
   "execution_count": 70,
   "metadata": {},
   "outputs": [],
   "source": [
    "# loss and accuracy\n",
    "y_ = tf.placeholder(tf.float32, [None, 32])\n",
    "cross_entropy = tf.reduce_mean(\n",
    "    tf.nn.softmax_cross_entropy_with_logits(labels=y_, logits=y_nn))\n",
    "train_step = tf.train.AdamOptimizer(1e-3).minimize(cross_entropy)\n",
    "correct_prediction = tf.equal(tf.argmax(y_nn, 1), tf.argmax(y_, 1))\n",
    "accuracy = tf.reduce_mean(tf.cast(correct_prediction, tf.float32))"
   ]
  },
  {
   "cell_type": "code",
   "execution_count": 71,
   "metadata": {},
   "outputs": [
    {
     "name": "stdout",
     "output_type": "stream",
     "text": [
      "epoch=1, train accuracy=0.6000000238418579, test acurracy=0.5514365434646606\n",
      "epoch=2, train accuracy=0.7799999713897705, test acurracy=0.7275254726409912\n",
      "epoch=3, train accuracy=0.8700000047683716, test acurracy=0.7868396639823914\n",
      "epoch=4, train accuracy=0.8500000238418579, test acurracy=0.8378127813339233\n",
      "epoch=5, train accuracy=0.7900000214576721, test acurracy=0.840593159198761\n",
      "epoch=6, train accuracy=0.8399999737739563, test acurracy=0.8591288328170776\n",
      "epoch=7, train accuracy=0.8399999737739563, test acurracy=0.8619091510772705\n",
      "epoch=8, train accuracy=0.800000011920929, test acurracy=0.8693234324455261\n",
      "epoch=9, train accuracy=0.8899999856948853, test acurracy=0.8711770176887512\n",
      "epoch=10, train accuracy=0.949999988079071, test acurracy=0.8767377138137817\n",
      "epoch=11, train accuracy=0.8700000047683716, test acurracy=0.8804448843002319\n",
      "epoch=12, train accuracy=0.8600000143051147, test acurracy=0.8813716173171997\n",
      "epoch=13, train accuracy=0.8999999761581421, test acurracy=0.8813716173171997\n",
      "epoch=14, train accuracy=0.8600000143051147, test acurracy=0.8841519951820374\n",
      "epoch=15, train accuracy=0.8799999952316284, test acurracy=0.891566276550293\n",
      "epoch=16, train accuracy=0.8299999833106995, test acurracy=0.8887858986854553\n",
      "epoch=17, train accuracy=0.800000011920929, test acurracy=0.8878591060638428\n",
      "epoch=18, train accuracy=0.8600000143051147, test acurracy=0.8887858986854553\n",
      "epoch=19, train accuracy=0.8500000238418579, test acurracy=0.8906394839286804\n",
      "epoch=20, train accuracy=0.8399999737739563, test acurracy=0.891566276550293\n"
     ]
    }
   ],
   "source": [
    "# training\n",
    "tcga = load_data.read_data_sets(\"./data/mRNA_PCA_20_components.csv\", \"label_tissue\")\n",
    "sess = tf.InteractiveSession()\n",
    "init = tf.global_variables_initializer()\n",
    "init.run()\n",
    "epoch = 0\n",
    "while tcga.train.epochs_completed < 20:\n",
    "    batch_xs, batch_ys = tcga.train.next_batch(100)\n",
    "    sess.run(train_step, feed_dict={x: batch_xs, y_: batch_ys})\n",
    "    if tcga.train.epochs_completed > epoch:\n",
    "        epoch += 1\n",
    "        correct_prediction = tf.equal(tf.argmax(y_nn,1), tf.argmax(y_,1))\n",
    "        accuracy = tf.reduce_mean(tf.cast(correct_prediction, tf.float32))\n",
    "        train_accuracy = sess.run(accuracy, feed_dict={x: batch_xs, y_: batch_ys})\n",
    "        test_accuracy = sess.run(accuracy, feed_dict={x: tcga.test.X, y_: tcga.test.y})\n",
    "        print(\"epoch={0}, train accuracy={1}, test acurracy={2}\".format(\n",
    "            epoch, train_accuracy, test_accuracy))"
   ]
  },
  {
   "cell_type": "code",
   "execution_count": null,
   "metadata": {
    "collapsed": true
   },
   "outputs": [],
   "source": []
  }
 ],
 "metadata": {
  "kernelspec": {
   "display_name": "Python 3",
   "language": "python",
   "name": "python3"
  },
  "language_info": {
   "codemirror_mode": {
    "name": "ipython",
    "version": 3
   },
   "file_extension": ".py",
   "mimetype": "text/x-python",
   "name": "python",
   "nbconvert_exporter": "python",
   "pygments_lexer": "ipython3",
   "version": "3.6.2"
  }
 },
 "nbformat": 4,
 "nbformat_minor": 2
}
