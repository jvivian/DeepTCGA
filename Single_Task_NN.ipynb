{
 "cells": [
  {
   "cell_type": "code",
   "execution_count": null,
   "metadata": {
    "collapsed": true
   },
   "outputs": [],
   "source": [
    "import warnings\n",
    "warnings.filterwarnings(\"ignore\")\n",
    "\n",
    "from sklearn.preprocessing import LabelEncoder, LabelBinarizer\n",
    "import tensorflow as tf\n",
    "import pandas as pd\n",
    "import numpy as np\n",
    "import time\n",
    "import datetime\n",
    "\n",
    "import load_data"
   ]
  },
  {
   "cell_type": "markdown",
   "metadata": {},
   "source": [
    "### One hidden layer"
   ]
  },
  {
   "cell_type": "code",
   "execution_count": 2,
   "metadata": {
    "collapsed": true
   },
   "outputs": [],
   "source": [
    "def weight_variable(shape):\n",
    "    initial=tf.truncated_normal(shape, stddev=0.1)\n",
    "    return tf.Variable(initial)\n",
    "\n",
    "\n",
    "def bias_variable(shape):\n",
    "    initial = tf.constant(0.1, shape=shape)\n",
    "    return tf.Variable(initial)\n",
    "\n",
    "\n",
    "def fc_layer(input, size_in, size_out, name=\"fc\"):\n",
    "    with tf.name_scope(name):\n",
    "        w = weight_variable([size_in, size_out])\n",
    "        b = bias_variable([size_out])\n",
    "        act = tf.matmul(input, w) + b\n",
    "        tf.summary.histogram(\"weights\", w)\n",
    "        tf.summary.histogram(\"biases\", b)\n",
    "        tf.summary.histogram(\"activations\", act)\n",
    "        return act\n",
    "    \n",
    "\n",
    "def train_model(data, label=\"tissue\", learning_rate=1e-3, extra=\"\"):\n",
    "    tf.reset_default_graph()\n",
    "    LOGDIR = \"/tmp/tcga_{0}/\".format(str(datetime.datetime.today().date()))\n",
    "    N_IN = data.train.X.shape[1]\n",
    "    N_OUT = data.train.y[label].shape[1]\n",
    "    N_HIDDEN = int(np.mean(N_IN + N_OUT)/2)\n",
    "    \n",
    "    x = tf.placeholder(tf.float32, [None, N_IN], name=\"x\")\n",
    "    y_true = tf.placeholder(tf.float32, [None, N_OUT], name=\"labels\")\n",
    "    hidden = tf.nn.relu(fc_layer(x, N_IN, N_HIDDEN), name=\"hidden\")\n",
    "    y_pred = fc_layer(hidden, N_HIDDEN, N_OUT, name=\"softmax\")\n",
    "    \n",
    "    xent = tf.reduce_mean(\n",
    "        tf.nn.softmax_cross_entropy_with_logits(\n",
    "            labels=y_true, logits=y_pred), name=\"xent\")\n",
    "    tf.summary.scalar(\"xent\", xent)\n",
    "\n",
    "    train_step = tf.train.AdamOptimizer(learning_rate).minimize(xent)\n",
    "\n",
    "    correct_prediction = tf.equal(tf.argmax(y_pred, 1), tf.argmax(y_true, 1))\n",
    "    accuracy = tf.reduce_mean(tf.cast(correct_prediction, tf.float32))\n",
    "    train_accu_summ = tf.summary.scalar(\"train_accuracy\", accuracy)\n",
    "    test_accu_summ = tf.summary.scalar(\"test_accuracy\", accuracy)\n",
    "\n",
    "    sess = tf.Session()\n",
    "    summ = tf.summary.merge_all()\n",
    "    writer = tf.summary.FileWriter(LOGDIR + \"pca{0}_{1}\".format(extra, label))\n",
    "    writer.add_graph(sess.graph)\n",
    "    \n",
    "    # training\n",
    "    t0 = time.time()\n",
    "    sess.run(tf.global_variables_initializer())\n",
    "\n",
    "    for i in range(20001):\n",
    "        batch_x, batch_y = data.train.next_batch(100)\n",
    "        sess.run(train_step, feed_dict={x: batch_x, y_true: batch_y[label]})\n",
    "        if i % 5 == 0:\n",
    "            [train_accuracy, train_s, s] = sess.run([accuracy, train_accu_summ, summ],\n",
    "                feed_dict={x: tcga.train.X, y_true: tcga.train.y[label]})\n",
    "            [test_accuracy, test_s] = sess.run([accuracy, test_accu_summ],\n",
    "                feed_dict={x: tcga.test.X, y_true: tcga.test.y[label]})\n",
    "            writer.add_summary(train_s, i)\n",
    "            writer.add_summary(test_s, i)\n",
    "            writer.add_summary(s, i)\n",
    "            if i % 100 == 0:\n",
    "                print(\"step\", i, \"training accuracy\", train_accuracy, \n",
    "                      \"test_accuracy\", test_accuracy)                \n",
    "    print(\"training time:\", time.time() - t0)"
   ]
  },
  {
   "cell_type": "code",
   "execution_count": 3,
   "metadata": {
    "collapsed": true,
    "scrolled": false
   },
   "outputs": [],
   "source": [
    "tcga = load_data.read_data_sets(\"./data/mRNA_lognorm_MinMaxScaled.csv\")"
   ]
  },
  {
   "cell_type": "code",
   "execution_count": null,
   "metadata": {},
   "outputs": [
    {
     "name": "stdout",
     "output_type": "stream",
     "text": [
      "tissue\n",
      "step 0 training accuracy 0.113518 test_accuracy 0.107011\n",
      "step 100 training accuracy 0.758327 test_accuracy 0.75738\n",
      "step 200 training accuracy 0.852714 test_accuracy 0.854244\n",
      "step 300 training accuracy 0.880834 test_accuracy 0.869926\n",
      "step 400 training accuracy 0.878645 test_accuracy 0.858856\n",
      "step 500 training accuracy 0.875764 test_accuracy 0.860701\n",
      "step 600 training accuracy 0.856748 test_accuracy 0.861624\n",
      "step 700 training accuracy 0.893973 test_accuracy 0.872694\n",
      "step 800 training accuracy 0.834159 test_accuracy 0.822878\n",
      "step 900 training accuracy 0.906419 test_accuracy 0.886531\n",
      "step 1000 training accuracy 0.878645 test_accuracy 0.867159\n",
      "step 1100 training accuracy 0.927625 test_accuracy 0.901291\n",
      "step 1200 training accuracy 0.916215 test_accuracy 0.890221\n",
      "step 1300 training accuracy 0.916331 test_accuracy 0.893911\n",
      "step 1400 training accuracy 0.930736 test_accuracy 0.913284\n",
      "step 1500 training accuracy 0.941224 test_accuracy 0.917897\n",
      "step 1600 training accuracy 0.908609 test_accuracy 0.872694\n",
      "step 1700 training accuracy 0.91587 test_accuracy 0.890221\n",
      "step 1800 training accuracy 0.920364 test_accuracy 0.892066\n",
      "step 1900 training accuracy 0.947678 test_accuracy 0.910517\n",
      "step 2000 training accuracy 0.960816 test_accuracy 0.922509\n",
      "step 2100 training accuracy 0.927855 test_accuracy 0.888376\n",
      "step 2200 training accuracy 0.967385 test_accuracy 0.928967\n",
      "step 2300 training accuracy 0.91368 test_accuracy 0.899446\n",
      "step 2400 training accuracy 0.934194 test_accuracy 0.920664\n",
      "step 2500 training accuracy 0.945603 test_accuracy 0.917897\n",
      "step 2600 training accuracy 0.973608 test_accuracy 0.945572\n"
     ]
    }
   ],
   "source": [
    "for label_name in [\"tissue\", \"gender\", \"tumor\"]:\n",
    "    print(label_name)\n",
    "    tcga.train.reset_epoch()\n",
    "    train_model(tcga, label=label_name, extra=\"_all\")"
   ]
  },
  {
   "cell_type": "code",
   "execution_count": null,
   "metadata": {
    "collapsed": true
   },
   "outputs": [],
   "source": []
  }
 ],
 "metadata": {
  "kernelspec": {
   "display_name": "Python 3",
   "language": "python",
   "name": "python3"
  },
  "language_info": {
   "codemirror_mode": {
    "name": "ipython",
    "version": 3
   },
   "file_extension": ".py",
   "mimetype": "text/x-python",
   "name": "python",
   "nbconvert_exporter": "python",
   "pygments_lexer": "ipython3",
   "version": "3.6.2"
  }
 },
 "nbformat": 4,
 "nbformat_minor": 2
}
