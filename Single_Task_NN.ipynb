{
 "cells": [
  {
   "cell_type": "code",
   "execution_count": 11,
   "metadata": {
    "collapsed": true
   },
   "outputs": [],
   "source": [
    "import warnings\n",
    "warnings.filterwarnings(\"ignore\")\n",
    "\n",
    "from sklearn.preprocessing import LabelEncoder, LabelBinarizer\n",
    "import tensorflow as tf\n",
    "import pandas as pd\n",
    "import numpy as np\n",
    "import time\n",
    "import datetime\n",
    "from tensorflow.python.client import timeline\n",
    "\n",
    "import load_data"
   ]
  },
  {
   "cell_type": "markdown",
   "metadata": {},
   "source": [
    "### One hidden layer"
   ]
  },
  {
   "cell_type": "code",
   "execution_count": 55,
   "metadata": {},
   "outputs": [],
   "source": [
    "def weight_variable(shape):\n",
    "    initial=tf.truncated_normal(shape, stddev=0.1)\n",
    "    return tf.Variable(initial)\n",
    "\n",
    "\n",
    "def bias_variable(shape):\n",
    "    initial = tf.constant(0.1, shape=shape)\n",
    "    return tf.Variable(initial)\n",
    "\n",
    "\n",
    "def fc_layer(input, size_in, size_out, name=\"fc\"):\n",
    "    with tf.name_scope(name):\n",
    "        w = weight_variable([size_in, size_out])\n",
    "        b = bias_variable([size_out])\n",
    "        act = tf.matmul(input, w) + b\n",
    "        tf.summary.histogram(\"weights\", w)\n",
    "        tf.summary.histogram(\"biases\", b)\n",
    "        tf.summary.histogram(\"activations\", act)\n",
    "        return act\n",
    "\n",
    "\n",
    "def prep_batch(X, y, num_epoch=0, batch_size=0):\n",
    "    dataset = tf.data.Dataset.from_tensor_slices({\"X\": X, \"y\": y})\n",
    "    dataset=dataset.repeat(num_epoch)\n",
    "    dataset=dataset.batch(batch_size)\n",
    "    dataset = dataset.prefetch(2)\n",
    "    iterator = dataset.make_initializable_iterator()\n",
    "    next_batch = iterator.get_next()\n",
    "    x, y_true = next_batch[\"X\"], next_batch[\"y\"]\n",
    "    return x, y_true, iterator\n",
    "\n",
    "\n",
    "def feed_forward(x, N_IN, N_HIDDEN, N_OUT):\n",
    "    hidden = tf.nn.relu(fc_layer(x, N_IN, N_HIDDEN), name=\"hidden\")\n",
    "    y_pred = fc_layer(hidden, N_HIDDEN, N_OUT, name=\"softmax\")\n",
    "    return y_pred\n",
    "\n",
    "\n",
    "def back_prop(y_true, y_pred, learning_rate):\n",
    "    cross_entropy = tf.reduce_mean(tf.nn.softmax_cross_entropy_with_logits(\n",
    "        labels=y_true, logits=y_pred), name=\"cross_entropy_loss\")\n",
    "    tf.summary.scalar(\"cross_entropy_loss\", cross_entropy)\n",
    "    train_step = tf.train.AdamOptimizer(learning_rate).minimize(cross_entropy)\n",
    "    return train_step\n",
    "\n",
    "\n",
    "def accuracy(y_pred, y_true):\n",
    "    correct_prediction = tf.equal(tf.argmax(y_pred, 1), tf.argmax(y_true, 1))\n",
    "    accuracy = tf.reduce_mean(tf.cast(correct_prediction, tf.float32))\n",
    "    return accuracy\n",
    "\n",
    "\n",
    "def train_model(data, label=\"tissue\", batch_size=1000, \n",
    "                num_epoch=1000, learning_rate=1e-3, extra=\"\"):\n",
    "    tf.reset_default_graph()\n",
    "    LOGDIR = \"/tmp/tcga_{0}/\".format(str(datetime.datetime.today().date()))\n",
    "    N_IN = data.train.X.shape[1]\n",
    "    N_OUT = data.train.y[label].shape[1]\n",
    "    N_HIDDEN = int(np.mean(N_IN + N_OUT)/2)\n",
    "\n",
    "    x, y_true, data_iterator = prep_batch(data.train.X, \n",
    "                                     data.train.y[label],\n",
    "                                     num_epoch=1000, batch_size=1000)\n",
    "    y_pred = feed_forward(x, N_IN, N_HIDDEN, N_OUT)\n",
    "    train_step = back_prop(y_true, y_pred, learning_rate)\n",
    "    \n",
    "    train_accuracy = accuracy(y_true, y_pred)\n",
    "    train_accu_summ = tf.summary.scalar(\"train_accuracy\", train_accuracy)\n",
    "#     test_accu_summ = tf.summary.scalar(\"test_accuracy\", accuracy)\n",
    "\n",
    "    sess = tf.Session()\n",
    "    summ = tf.summary.merge_all()\n",
    "    writer = tf.summary.FileWriter(LOGDIR + \"pca{0}_{1}\".format(extra, label))\n",
    "    writer.add_graph(sess.graph)\n",
    "    \n",
    "    # training\n",
    "    t0 = time.time()\n",
    "    sess.run(tf.global_variables_initializer())\n",
    "    sess.run(data_iterator.initializer)\n",
    "    \n",
    "    epoch = 0\n",
    "    train_size = data.train.X.shape[0]\n",
    "#     test_size = data.test.X.shape[0]\n",
    "#     test_dataset = prep_dataset(data.test.X, data.test.y[label], \n",
    "#                                 num_epoch=1, batch_size=test_size)\n",
    "# #     test_iterator = test_dataset.make_initializable_iterator()\n",
    "# #     test_batch = test_iterator.get_next()\n",
    "#     x_test, y_test_true = test_dataset[\"X\"], test_dataset[\"y\"]\n",
    "#     y_test_pred = fc_layer(tf.nn.relu(fc_layer(x_test, N_IN, N_HIDDEN)))\n",
    "#     test_correct_prediction = tf.equal(tf.argmax(y_test_true, 1), tf.argmax())\n",
    "#     test_accuracy = tf.reduce_mean(tf.cast())\n",
    "    \n",
    "    for i in range(100000000):\n",
    "        try:\n",
    "            sess.run(train_step)\n",
    "            \n",
    "            if (i*batch_size) % 9000 == 0:\n",
    "                epoch += 1\n",
    "                [train_accu, train_s, s] = sess.run([train_accuracy, train_accu_summ, summ])\n",
    "#                 [test_accuracy, test_s] = sess.run([accuracy, test_accu_summ],\n",
    "#                     feed_dict={x: x_test, y_true: y_test_true})\n",
    "                writer.add_summary(train_s, epoch)\n",
    "#                 writer.add_summary(test_s, epoch)\n",
    "#                 writer.add_summary(s, epoch)\n",
    "                if epoch % 100 == 0:\n",
    "                    print(\"epoch\", epoch, \n",
    "#                           \"training accuracy\", train_accuracy, \n",
    "#                           \"test_accuracy\", test_accuracy,\n",
    "                         )\n",
    "                            \n",
    "        except tf.errors.OutOfRangeError:\n",
    "            break\n",
    "    print(\"training time:\", time.time() - t0)"
   ]
  },
  {
   "cell_type": "code",
   "execution_count": null,
   "metadata": {
    "scrolled": false
   },
   "outputs": [
    {
     "name": "stdout",
     "output_type": "stream",
     "text": [
      "0.6 tissue\n",
      "epoch 100\n",
      "epoch 200\n"
     ]
    }
   ],
   "source": [
    "for pca_var in [0.6, 0.7, 0.8, 0.9]:\n",
    "    tcga = load_data.read_data_sets(\"./data/mRNA_PCA_{0}_variance_MinMaxScaled.csv\".format(pca_var))\n",
    "    for label_name in [\"tissue\", \"gender\", \"tumor\"]:\n",
    "        print(pca_var, label_name)\n",
    "        tcga.train.reset_epoch()\n",
    "        train_model(tcga, label=label_name, extra=pca_var)\n",
    "        break"
   ]
  },
  {
   "cell_type": "code",
   "execution_count": null,
   "metadata": {
    "collapsed": true
   },
   "outputs": [],
   "source": [
    "tcga = load_data.read_data_sets(\"./data/mRNA_lognorm_MinMaxScaled.csv\")\n",
    "for label_name in [\"tissue\", \"gender\", \"tumor\"]:\n",
    "    print(label_name)\n",
    "    tcga.train.reset_epoch()\n",
    "    train_model(tcga, label=label_name, extra=\"_all\")"
   ]
  },
  {
   "cell_type": "code",
   "execution_count": null,
   "metadata": {
    "collapsed": true
   },
   "outputs": [],
   "source": []
  }
 ],
 "metadata": {
  "kernelspec": {
   "display_name": "Python 3",
   "language": "python",
   "name": "python3"
  },
  "language_info": {
   "codemirror_mode": {
    "name": "ipython",
    "version": 3
   },
   "file_extension": ".py",
   "mimetype": "text/x-python",
   "name": "python",
   "nbconvert_exporter": "python",
   "pygments_lexer": "ipython3",
   "version": "3.6.2"
  }
 },
 "nbformat": 4,
 "nbformat_minor": 2
}
