{
 "cells": [
  {
   "cell_type": "code",
   "execution_count": 1,
   "metadata": {
    "collapsed": true
   },
   "outputs": [],
   "source": [
    "import warnings\n",
    "warnings.filterwarnings(\"ignore\")\n",
    "\n",
    "from sklearn.preprocessing import LabelEncoder, LabelBinarizer\n",
    "import tensorflow as tf\n",
    "import pandas as pd\n",
    "import numpy as np\n",
    "import time\n",
    "import datetime\n",
    "from tensorflow.python.client import timeline\n",
    "\n",
    "import load_data"
   ]
  },
  {
   "cell_type": "markdown",
   "metadata": {},
   "source": [
    "### One hidden layer"
   ]
  },
  {
   "cell_type": "code",
   "execution_count": 2,
   "metadata": {
    "collapsed": true
   },
   "outputs": [],
   "source": [
    "def weight_variable(shape):\n",
    "    initial=tf.truncated_normal(shape, stddev=0.1)\n",
    "    return tf.Variable(initial)\n",
    "\n",
    "\n",
    "def bias_variable(shape):\n",
    "    initial = tf.constant(0.1, shape=shape)\n",
    "    return tf.Variable(initial)\n",
    "\n",
    "\n",
    "def fc_layer(input, size_in, size_out, name=\"fc\"):\n",
    "    with tf.name_scope(name):\n",
    "        w = weight_variable([size_in, size_out])\n",
    "        b = bias_variable([size_out])\n",
    "        act = tf.matmul(input, w) + b\n",
    "        tf.summary.histogram(\"weights\", w)\n",
    "        tf.summary.histogram(\"biases\", b)\n",
    "        tf.summary.histogram(\"activations\", act)\n",
    "        return act\n",
    "    \n",
    "\n",
    "def prep_dataset(X, y, num_epoch=0, batch_size=0):\n",
    "#     X_placeholder = tf.placeholder(tf.float32, X_shape)\n",
    "#     y_placeholder = tf.placeholder(tf.float32, y_shape)\n",
    "    dataset = tf.data.Dataset.from_tensor_slices({\"X\": X, \"y\": y})\n",
    "    dataset=dataset.repeat(num_epoch)\n",
    "    dataset=dataset.batch(batch_size)\n",
    "    dataset = dataset.prefetch(2)\n",
    "    return dataset\n",
    "\n",
    "\n",
    "def train_model(data, label=\"tissue\", batch_size=1000, \n",
    "                num_epoch=1000, learning_rate=1e-3, extra=\"\"):\n",
    "    tf.reset_default_graph()\n",
    "    LOGDIR = \"/tmp/tcga_{0}/\".format(str(datetime.datetime.today().date()))\n",
    "    N_IN = data.train.X.shape[1]\n",
    "    N_OUT = data.train.y[label].shape[1]\n",
    "    N_HIDDEN = int(np.mean(N_IN + N_OUT)/2)\n",
    "\n",
    "    # dataset ##################################\n",
    "#     X_placeholder = tf.placeholder(tf.float32, data.train.X.shape)\n",
    "#     y_placeholder = tf.placeholder(tf.float32, data.train.y[label].shape)\n",
    "#     dataset = tf.data.Dataset.from_tensor_slices({\"X\": X_placeholder, \"y\": y_placeholder})\n",
    "#     dataset=dataset.repeat(num_epoch)\n",
    "#     dataset=dataset.batch(batch_size)\n",
    "#     dataset = dataset.prefetch(2)\n",
    "#     iterator = dataset.make_initializable_iterator()\n",
    "#     next_element = iterator.get_next()\n",
    "    ###################################\n",
    "    train_dataset = prep_dataset(data.train.X, \n",
    "                                 data.train.y[label],\n",
    "                                 num_epoch=1000, batch_size=1000)\n",
    "    iterator = train_dataset.make_initializable_iterator()\n",
    "    next_batch = iterator.get_next()\n",
    "    x, y_true = next_batch[\"X\"], next_batch[\"y\"]\n",
    "    hidden = tf.nn.relu(fc_layer(x, N_IN, N_HIDDEN), name=\"hidden\")\n",
    "    y_pred = fc_layer(hidden, N_HIDDEN, N_OUT, name=\"softmax\")\n",
    "    \n",
    "    xent = tf.reduce_mean(\n",
    "        tf.nn.softmax_cross_entropy_with_logits(\n",
    "            labels=y_true, logits=y_pred), name=\"xent\")\n",
    "    tf.summary.scalar(\"xent\", xent)\n",
    "\n",
    "    train_step = tf.train.AdamOptimizer(learning_rate).minimize(xent)\n",
    "\n",
    "    correct_prediction = tf.equal(tf.argmax(y_pred, 1), tf.argmax(y_true, 1))\n",
    "    accuracy = tf.reduce_mean(tf.cast(correct_prediction, tf.float32))\n",
    "    train_accu_summ = tf.summary.scalar(\"train_accuracy\", accuracy)\n",
    "    test_accu_summ = tf.summary.scalar(\"test_accuracy\", accuracy)\n",
    "\n",
    "    sess = tf.Session()\n",
    "    summ = tf.summary.merge_all()\n",
    "    writer = tf.summary.FileWriter(LOGDIR + \"pca{0}_{1}\".format(extra, label))\n",
    "    writer.add_graph(sess.graph)\n",
    "    \n",
    "    # training\n",
    "    t0 = time.time()\n",
    "    sess.run(tf.global_variables_initializer())\n",
    "    sess.run(iterator.initializer)\n",
    "    \n",
    "#     tf_options_profiler_on = tf.RunOptions(trace_level=tf.RunOptions.FULL_TRACE)\n",
    "#     tf_options_profiler_off = tf.RunOptions()\n",
    "#     tf_run_metadata = tf.RunMetadata()\n",
    "    \n",
    "\n",
    "    epoch = 0\n",
    "    for i in range(100000000):\n",
    "        try:\n",
    "            sess.run(train_step)#, options=tf_options_profiler_on, run_metadata=tf_run_metadata)\n",
    "#             fetched_timeline = timeline.Timeline(tf_run_metadata.step_stats)\n",
    "#             chrome_trace = fetched_timeline.generate_chrome_trace_format()\n",
    "#             filename = './profile/tf_profile_step_%02d.json' % i\n",
    "#             print('Profile step, writing profiler output to ', filename)\n",
    "#             with open(filename, 'w') as f:\n",
    "#                 f.write(chrome_trace)\n",
    "#             if (i*batch_size) % 9000 == 0:\n",
    "#                 epoch += 1\n",
    "#                 [train_accuracy, train_s, s] = sess.run([accuracy, train_accu_summ, summ],\n",
    "#                     feed_dict={x: data.train.X, y_true: data.train.y[label]})\n",
    "#                 [test_accuracy, test_s] = sess.run([accuracy, test_accu_summ],\n",
    "#                     feed_dict={x: data.test.X, y_true: data.test.y[label]})\n",
    "#                 writer.add_summary(train_s, epoch)\n",
    "#                 writer.add_summary(test_s, epoch)\n",
    "#                 writer.add_summary(s, epoch)\n",
    "#                 if epoch % 100 == 0:\n",
    "#                     print(\"epoch\", epoch, \n",
    "#                           \"training accuracy\", train_accuracy, \n",
    "#                           \"test_accuracy\", test_accuracy)\n",
    "        except tf.errors.OutOfRangeError:\n",
    "            break\n",
    "    print(\"training time:\", time.time() - t0)"
   ]
  },
  {
   "cell_type": "code",
   "execution_count": null,
   "metadata": {
    "scrolled": false
   },
   "outputs": [],
   "source": [
    "for pca_var in [0.6, 0.7, 0.8, 0.9]:\n",
    "    tcga = load_data.read_data_sets(\"./data/mRNA_PCA_{0}_variance_MinMaxScaled.csv\".format(pca_var))\n",
    "    for label_name in [\"tissue\", \"gender\", \"tumor\"]:\n",
    "        print(pca_var, label_name)\n",
    "        tcga.train.reset_epoch()\n",
    "        train_model(tcga, label=label_name, extra=pca_var)\n",
    "        break"
   ]
  },
  {
   "cell_type": "code",
   "execution_count": null,
   "metadata": {},
   "outputs": [],
   "source": [
    "tcga = load_data.read_data_sets(\"./data/mRNA_lognorm_MinMaxScaled.csv\")\n",
    "for label_name in [\"tissue\", \"gender\", \"tumor\"]:\n",
    "    print(label_name)\n",
    "    tcga.train.reset_epoch()\n",
    "    train_model(tcga, label=label_name, extra=\"_all\")"
   ]
  },
  {
   "cell_type": "code",
   "execution_count": null,
   "metadata": {
    "collapsed": true
   },
   "outputs": [],
   "source": []
  }
 ],
 "metadata": {
  "kernelspec": {
   "display_name": "Python 3",
   "language": "python",
   "name": "python3"
  },
  "language_info": {
   "codemirror_mode": {
    "name": "ipython",
    "version": 3
   },
   "file_extension": ".py",
   "mimetype": "text/x-python",
   "name": "python",
   "nbconvert_exporter": "python",
   "pygments_lexer": "ipython3",
   "version": "3.6.2"
  }
 },
 "nbformat": 4,
 "nbformat_minor": 2
}
