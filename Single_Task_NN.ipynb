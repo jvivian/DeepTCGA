{
 "cells": [
  {
   "cell_type": "code",
   "execution_count": 2,
   "metadata": {
    "collapsed": true
   },
   "outputs": [],
   "source": [
    "import warnings\n",
    "warnings.filterwarnings(\"ignore\")\n",
    "\n",
    "from sklearn.preprocessing import LabelEncoder, LabelBinarizer\n",
    "import tensorflow as tf\n",
    "import pandas as pd\n",
    "import numpy as np\n",
    "import time\n",
    "\n",
    "import load_data"
   ]
  },
  {
   "cell_type": "markdown",
   "metadata": {},
   "source": [
    "### One hidden layer"
   ]
  },
  {
   "cell_type": "code",
   "execution_count": 3,
   "metadata": {
    "collapsed": true
   },
   "outputs": [],
   "source": [
    "def weight_variable(shape):\n",
    "    initial=tf.truncated_normal(shape, stddev=0.1)\n",
    "    return tf.Variable(initial)\n",
    "\n",
    "\n",
    "def bias_variable(shape):\n",
    "    initial = tf.constant(0.1, shape=shape)\n",
    "    return tf.Variable(initial)\n",
    "\n",
    "\n",
    "def fc_layer(input, size_in, size_out, name=\"fc\"):\n",
    "    with tf.name_scope(name):\n",
    "        w = weight_variable([size_in, size_out])\n",
    "        b = bias_variable([size_out])\n",
    "        act = tf.matmul(input, w) + b\n",
    "        tf.summary.histogram(\"weights\", w)\n",
    "        tf.summary.histogram(\"biases\", b)\n",
    "        tf.summary.histogram(\"activations\", act)\n",
    "        return act"
   ]
  },
  {
   "cell_type": "code",
   "execution_count": 4,
   "metadata": {},
   "outputs": [],
   "source": [
    "# data\n",
    "tcga = load_data.read_data_sets(\"./data/mRNA_PCA_0.6_variance_MinMaxScaled.csv\")\n",
    "LOGDIR = \"/tmp/tcga/\"\n",
    "N_IN = tcga.train.X.shape[1]\n",
    "N_OUT = tcga.train.y[\"tissue\"].shape[1]\n",
    "N_HIDDEN = int(np.mean(N_IN + N_OUT))"
   ]
  },
  {
   "cell_type": "code",
   "execution_count": 5,
   "metadata": {
    "collapsed": true
   },
   "outputs": [],
   "source": [
    "# Model\n",
    "x = tf.placeholder(tf.float32, [None, N_IN], name=\"x\")\n",
    "y_true = tf.placeholder(tf.float32, [None, N_OUT], name=\"labels\")\n",
    "hidden = tf.nn.relu(fc_layer(x, N_IN, N_HIDDEN), name=\"hidden\")\n",
    "y_pred = fc_layer(hidden, N_HIDDEN, N_OUT, name=\"softmax\")\n",
    "\n",
    "with tf.name_scope(\"xent\"):\n",
    "    xent = tf.reduce_mean(\n",
    "        tf.nn.softmax_cross_entropy_with_logits(\n",
    "            labels=y_true, logits=y_pred), name=\"xent\")\n",
    "    tf.summary.scalar(\"xent\", xent)\n",
    "    \n",
    "with tf.name_scope(\"train\"):\n",
    "    train_step = tf.train.AdamOptimizer(1e-3).minimize(xent)\n",
    "\n",
    "with tf.name_scope(\"accuracy\"):\n",
    "    correct_prediction = tf.equal(tf.argmax(y_pred, 1), tf.argmax(y_true, 1))\n",
    "    accuracy = tf.reduce_mean(tf.cast(correct_prediction, tf.float32))\n",
    "    tf.summary.scalar(\"accuracy\", accuracy)\n",
    "    \n",
    "sess = tf.Session()\n",
    "summ = tf.summary.merge_all()\n",
    "writer = tf.summary.FileWriter(LOGDIR)\n",
    "writer.add_graph(sess.graph)"
   ]
  },
  {
   "cell_type": "code",
   "execution_count": 6,
   "metadata": {
    "scrolled": false
   },
   "outputs": [
    {
     "name": "stdout",
     "output_type": "stream",
     "text": [
      "step 0 training accuracy 0.00391435\n",
      "step 100 training accuracy 0.11225\n",
      "step 200 training accuracy 0.298066\n",
      "step 300 training accuracy 0.491711\n",
      "step 400 training accuracy 0.588188\n",
      "step 500 training accuracy 0.686852\n",
      "step 600 training accuracy 0.742805\n",
      "step 700 training accuracy 0.771586\n",
      "step 800 training accuracy 0.787935\n",
      "step 900 training accuracy 0.799563\n",
      "step 1000 training accuracy 0.80647\n",
      "step 1100 training accuracy 0.820055\n",
      "step 1200 training accuracy 0.829265\n",
      "step 1300 training accuracy 0.838936\n",
      "step 1400 training accuracy 0.846304\n",
      "step 1500 training accuracy 0.85586\n",
      "step 1600 training accuracy 0.857242\n",
      "step 1700 training accuracy 0.866337\n",
      "step 1800 training accuracy 0.867603\n",
      "step 1900 training accuracy 0.869445\n",
      "step 2000 training accuracy 0.87359\n",
      "27.89624524116516\n"
     ]
    }
   ],
   "source": [
    "# training\n",
    "t0 = time.time()\n",
    "epoch = 0\n",
    "tcga.train.reset_epoch()\n",
    "sess.run(tf.global_variables_initializer())\n",
    "\n",
    "for i in range(2001):\n",
    "    batch_xs, batch_ys_tissue, _, _ = tcga.train.next_batch(100)\n",
    "    sess.run(train_step, feed_dict={x: batch_xs, y_true: batch_ys_tissue})\n",
    "    if i % 5 == 0:\n",
    "        [train_accuracy, s] = sess.run([accuracy, summ],\n",
    "            feed_dict={x: tcga.train.X, y_true: tcga.train.y[\"tissue\"]})\n",
    "#         [test_accuracy, s] = sess.run([accuracy, summ],\n",
    "#             feed_dict={x: tcga.test.X, y_true: tcga.test.y[\"tissue\"]})\n",
    "        writer.add_summary(s, i)\n",
    "        if i % 100 == 0:\n",
    "            print(\"step\", i, \"training accuracy\", train_accuracy)\n",
    "print(time.time() - t0)"
   ]
  },
  {
   "cell_type": "code",
   "execution_count": null,
   "metadata": {
    "collapsed": true
   },
   "outputs": [],
   "source": []
  }
 ],
 "metadata": {
  "kernelspec": {
   "display_name": "Python 3",
   "language": "python",
   "name": "python3"
  },
  "language_info": {
   "codemirror_mode": {
    "name": "ipython",
    "version": 3
   },
   "file_extension": ".py",
   "mimetype": "text/x-python",
   "name": "python",
   "nbconvert_exporter": "python",
   "pygments_lexer": "ipython3",
   "version": "3.6.2"
  }
 },
 "nbformat": 4,
 "nbformat_minor": 2
}
