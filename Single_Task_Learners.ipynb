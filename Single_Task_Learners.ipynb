{
 "cells": [
  {
   "cell_type": "code",
   "execution_count": 26,
   "metadata": {},
   "outputs": [],
   "source": [
    "import tensorflow as tf\n",
    "import pandas as pd\n",
    "import numpy as np\n",
    "import time\n",
    "\n",
    "import xgboost\n",
    "from sklearn.datasets import make_classification\n",
    "from sklearn.model_selection import train_test_split, StratifiedKFold\n",
    "from sklearn.preprocessing import LabelEncoder\n",
    "from sklearn.linear_model import LogisticRegression\n",
    "from sklearn.metrics import accuracy_score"
   ]
  },
  {
   "cell_type": "code",
   "execution_count": 103,
   "metadata": {
    "collapsed": true
   },
   "outputs": [],
   "source": [
    "def run_cross_val(X, y, classifiers, n_fold=5, random_state=0):\n",
    "    kf = StratifiedKFold(n_splits=n_fold, shuffle=True, random_state=random_state)\n",
    "    result_df = pd.DataFrame()\n",
    "    fold_num = 0\n",
    "    for train, test in kf.split(X, y):\n",
    "        fold_num += 1\n",
    "        print(fold_num)\n",
    "        x_train = X.iloc[train]\n",
    "        y_train = y[train]\n",
    "        x_test = X.iloc[test]\n",
    "        y_test = y[test]\n",
    "        for classifier_name, clf in classifiers.items():\n",
    "            t0 = time.time()\n",
    "            clf.fit(x_train, y_train)\n",
    "            prediction = clf.predict(x_test)\n",
    "            if fold_num == 1:\n",
    "                print(\"fit and predict of classifier {0} takes {1} seconds\".format(\n",
    "                    classifier_name, time.time()-t0))\n",
    "            result_df.loc[fold_num, classifier_name] = accuracy_score(prediction, y_test)\n",
    "    return result_df\n",
    "\n",
    "\n",
    "def prep_data(df, label):\n",
    "    X = df[df.columns[3:]]\n",
    "    X.reset_index(drop=True, inplace=True)\n",
    "    y_raw = df[label]\n",
    "    le = LabelEncoder()\n",
    "    y = le.fit_transform(y_raw)\n",
    "    return X, y, le"
   ]
  },
  {
   "cell_type": "code",
   "execution_count": 94,
   "metadata": {
    "collapsed": true
   },
   "outputs": [],
   "source": [
    "df = pd.read_csv(\"./data/mRNA_PCA_50_components.csv\", index_col=\"sample_id\")"
   ]
  },
  {
   "cell_type": "markdown",
   "metadata": {},
   "source": [
    "### Tissue Predicter"
   ]
  },
  {
   "cell_type": "code",
   "execution_count": 99,
   "metadata": {
    "collapsed": true
   },
   "outputs": [],
   "source": [
    "X, y, le = prep_data(df, \"label_tissue\")"
   ]
  },
  {
   "cell_type": "code",
   "execution_count": 104,
   "metadata": {},
   "outputs": [
    {
     "name": "stdout",
     "output_type": "stream",
     "text": [
      "1\n",
      "fit and predict of classifier Logistic Regression takes 11.938397884368896 seconds\n",
      "fit and predict of classifier XGBoost takes 5.860821485519409 seconds\n",
      "2\n",
      "3\n",
      "4\n",
      "5\n"
     ]
    }
   ],
   "source": [
    "classifiers = {\"Logistic Regression\": LogisticRegression(), \n",
    "               \"XGBoost\": xgboost.XGBClassifier()}\n",
    "result_df = run_cross_val(X, y, classifiers, n_fold=5, random_state=0)"
   ]
  },
  {
   "cell_type": "code",
   "execution_count": 106,
   "metadata": {},
   "outputs": [
    {
     "data": {
      "text/html": [
       "<div>\n",
       "<style>\n",
       "    .dataframe thead tr:only-child th {\n",
       "        text-align: right;\n",
       "    }\n",
       "\n",
       "    .dataframe thead th {\n",
       "        text-align: left;\n",
       "    }\n",
       "\n",
       "    .dataframe tbody tr th {\n",
       "        vertical-align: top;\n",
       "    }\n",
       "</style>\n",
       "<table border=\"1\" class=\"dataframe\">\n",
       "  <thead>\n",
       "    <tr style=\"text-align: right;\">\n",
       "      <th></th>\n",
       "      <th>Logistic Regression</th>\n",
       "      <th>XGBoost</th>\n",
       "    </tr>\n",
       "  </thead>\n",
       "  <tbody>\n",
       "    <tr>\n",
       "      <th>1</th>\n",
       "      <td>0.936435</td>\n",
       "      <td>0.923538</td>\n",
       "    </tr>\n",
       "    <tr>\n",
       "      <th>2</th>\n",
       "      <td>0.936288</td>\n",
       "      <td>0.918283</td>\n",
       "    </tr>\n",
       "    <tr>\n",
       "      <th>3</th>\n",
       "      <td>0.933766</td>\n",
       "      <td>0.913386</td>\n",
       "    </tr>\n",
       "    <tr>\n",
       "      <th>4</th>\n",
       "      <td>0.939647</td>\n",
       "      <td>0.919220</td>\n",
       "    </tr>\n",
       "    <tr>\n",
       "      <th>5</th>\n",
       "      <td>0.933923</td>\n",
       "      <td>0.914844</td>\n",
       "    </tr>\n",
       "  </tbody>\n",
       "</table>\n",
       "</div>"
      ],
      "text/plain": [
       "   Logistic Regression   XGBoost\n",
       "1             0.936435  0.923538\n",
       "2             0.936288  0.918283\n",
       "3             0.933766  0.913386\n",
       "4             0.939647  0.919220\n",
       "5             0.933923  0.914844"
      ]
     },
     "execution_count": 106,
     "metadata": {},
     "output_type": "execute_result"
    }
   ],
   "source": [
    "result_df"
   ]
  },
  {
   "cell_type": "code",
   "execution_count": null,
   "metadata": {
    "collapsed": true
   },
   "outputs": [],
   "source": []
  }
 ],
 "metadata": {
  "kernelspec": {
   "display_name": "Python 3",
   "language": "python",
   "name": "python3"
  },
  "language_info": {
   "codemirror_mode": {
    "name": "ipython",
    "version": 3
   },
   "file_extension": ".py",
   "mimetype": "text/x-python",
   "name": "python",
   "nbconvert_exporter": "python",
   "pygments_lexer": "ipython3",
   "version": "3.6.2"
  }
 },
 "nbformat": 4,
 "nbformat_minor": 2
}
