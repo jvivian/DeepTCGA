{
 "cells": [
  {
   "cell_type": "code",
   "execution_count": 5,
   "metadata": {},
   "outputs": [],
   "source": [
    "import pandas as pd\n",
    "import numpy as np\n",
    "import tensorflow as tf\n",
    "import time\n",
    "import sys\n",
    "import datetime\n",
    "from pprint import pprint as pp\n",
    "\n",
    "sys.path.insert(0, '/home/molly/Desktop/DeepTCGA/')\n",
    "import load_data"
   ]
  },
  {
   "cell_type": "code",
   "execution_count": 1,
   "metadata": {
    "collapsed": true
   },
   "outputs": [],
   "source": [
    "def fc_layer(A_prev, size_in, size_out, name=\"fully-connected\"):\n",
    "    with tf.name_scope(name):\n",
    "        w = tf.Variable(tf.truncated_normal([size_in, size_out], mean=0, stddev=0.1))\n",
    "        b = tf.Variable(tf.constant(0.1, shape=[size_out]))\n",
    "        act = tf.matmul(A_prev, w) + b\n",
    "        tf.summary.histogram(\"weights\", w)\n",
    "        tf.summary.histogram(\"biases\", b)\n",
    "        tf.summary.histogram(\"activations\", act)\n",
    "        return act, w, b\n",
    "\n",
    "\n",
    "def build_model(x, N_IN, N_HIDDENS):\n",
    "    parameters = {}\n",
    "    \n",
    "    a1, w1, b1 = fc_layer(x, N_IN, N_HIDDENS[0], name=\"fc1\")\n",
    "    parameters.update({\"a1\":a1, \"w1\": w1, \"b1\": b1})\n",
    "    hidden1 = tf.nn.leaky_relu(a1, name=\"hidden1\")\n",
    "    \n",
    "    a2, w2, b2 = fc_layer(hidden1, N_HIDDENS[0], N_HIDDENS[1], name=\"fc2\")\n",
    "    parameters.update({\"a2\":a2, \"w2\": w2, \"b2\": b2})\n",
    "    hidden2 = tf.nn.leaky_relu(a2, name=\"hidden2\")\n",
    "    \n",
    "    a3, w3, b3 = fc_layer(hidden2, N_HIDDENS[1], N_HIDDENS[2], name=\"fc3\")\n",
    "    parameters.update({\"a3\":a3, \"w3\": w3, \"b3\": b3})\n",
    "    hidden3 = tf.nn.leaky_relu(a3, name=\"hidden3\")\n",
    "    \n",
    "    x_recon, w4, b4 = fc_layer(hidden3, N_HIDDENS[2], N_IN, name=\"fc4\")\n",
    "    parameters.update({\"w4\": w4, \"b4\": b4})\n",
    "    return x_recon, parameters\n",
    "\n",
    "\n",
    "def back_prop(x, x_recon, learning_rate):\n",
    "    loss = tf.reduce_mean(tf.square(x_recon - x))\n",
    "    train_step = tf.train.AdamOptimizer(learning_rate).minimize(loss)\n",
    "    return train_step\n",
    "\n",
    "\n",
    "def feed_forward(x, parameters):\n",
    "    w1, b1 = parameters[\"w1\"], parameters[\"b1\"]\n",
    "    hidden1 = tf.nn.leaky_relu(tf.matmul(x, w1) + b1)\n",
    "    w2, b2 = parameters[\"w2\"], parameters[\"b2\"]\n",
    "    hidden2 = tf.nn.leaky_relu(tf.matmul(hidden1, w2) + b2)\n",
    "    w3, b3 = parameters[\"w3\"], parameters[\"b3\"]\n",
    "    hidden3 = tf.nn.leaky_relu(tf.matmul(hidden2, w3) + b3)\n",
    "    w4, b4 = parameters[\"w4\"], parameters[\"b4\"]\n",
    "    x_recon = tf.matmul(hidden3, w4) + b4\n",
    "    return x_recon, hidden2\n",
    "\n",
    "\n",
    "def mse(x, x_recon, name=\"\"):\n",
    "    mse = tf.reduce_mean(tf.square(x_recon-x))\n",
    "    mse_summary = tf.summary.scalar(name + \"_mse\", mse)\n",
    "    return mse, mse_summary"
   ]
  },
  {
   "cell_type": "code",
   "execution_count": 8,
   "metadata": {
    "collapsed": true
   },
   "outputs": [],
   "source": [
    "def train_model(data, batch_size=128, num_epoch=1000, learning_rate=1e-3, extra=\"\"):\n",
    "    tf.reset_default_graph()\n",
    "    LOGDIR = \"/tmp/tcga_{0}\".format(datetime.datetime.today().date())\n",
    "    N_IN = data.train.num_features\n",
    "    N_OUT = data.train.num_features\n",
    "    N_HIDDENS = [1000, 2, 1000]\n",
    "    \n",
    "    # train step\n",
    "    (train_batch, train_iter, val_all, val_iter, \n",
    "        train_all, train_iter_all) = data.prep_batch(batch_size=batch_size, count_by=\"epoch\")\n",
    "    \n",
    "    \n",
    "    x = train_batch[\"X\"]\n",
    "    x_recon, parameters = build_model(x, N_IN, N_HIDDENS)\n",
    "    train_step = back_prop(x, x_recon, learning_rate)\n",
    "    \n",
    "    # mse\n",
    "    x_train, x_val = train_all[\"X\"], val_all[\"X\"]\n",
    "    x_train_recon1, hidden2 = feed_forward(x_train, parameters)\n",
    "    x_val_recon1, _ = feed_forward(x_val, parameters)\n",
    "    train_mse, train_summ = mse(x_train, x_train_recon1, name=\"train\")\n",
    "    val_mse, val_summ = mse(x_val, x_val_recon1, name=\"valiation\")\n",
    "    \n",
    "    # run\n",
    "    sess = tf.Session()\n",
    "    summ = tf.summary.merge_all()\n",
    "    writer = tf.summary.FileWriter(LOGDIR + \"ae_{0}\".format(extra))\n",
    "    writer.add_graph(sess.graph)                            \n",
    "    sess.run(tf.global_variables_initializer())\n",
    "\n",
    "    for epoch in range(num_epoch):\n",
    "        sess.run([train_iter.initializer])\n",
    "        t0 = time.time()\n",
    "        try:\n",
    "            while True:\n",
    "                sess.run(train_step)\n",
    "        except tf.errors.OutOfRangeError:\n",
    "            if epoch % 10 == 0:\n",
    "                sess.run([train_iter_all.initializer, val_iter.initializer])\n",
    "                [train_error, train_s, val_error, val_s] = sess.run(\n",
    "                [train_mse, train_summ, val_mse, val_summ])\n",
    "                writer.add_summary(train_s, epoch)\n",
    "                writer.add_summary(val_s, epoch)\n",
    "                print(\"epoch\", epoch)\n",
    "                print(\"training mse:\", train_error, \"validation mse\", val_error)\n",
    "                print(\"epoch time:\", time.time()-t0)\n",
    "    train_latent = sess.run(train_latent)\n",
    "    val_latent = sess.run(val_latent)\n",
    "    np.save(\"./results/AE/train_latent_complex2.npy\", train_latent)\n",
    "    np.save(\"./results/AE/val_latent_complex2.npy\", val_latent)    \n",
    "    sess.close()"
   ]
  },
  {
   "cell_type": "code",
   "execution_count": 6,
   "metadata": {},
   "outputs": [],
   "source": [
    "tcga = load_data.read_data_sets(\"../data/mRNA_lognorm_StandardScaled.hdf\")"
   ]
  },
  {
   "cell_type": "code",
   "execution_count": null,
   "metadata": {
    "scrolled": false
   },
   "outputs": [
    {
     "name": "stdout",
     "output_type": "stream",
     "text": [
      "epoch 0\n",
      "training mse: 1.0290458 validation mse 1.0350611\n",
      "epoch time: 4.2554521560668945\n",
      "epoch 10\n",
      "training mse: 0.83689576 validation mse 0.83375275\n",
      "epoch time: 2.26186203956604\n"
     ]
    }
   ],
   "source": [
    "train_model(tcga, num_epoch=1000, extra=\"1000_2_1000_hidden\")"
   ]
  },
  {
   "cell_type": "code",
   "execution_count": null,
   "metadata": {
    "collapsed": true
   },
   "outputs": [],
   "source": []
  }
 ],
 "metadata": {
  "kernelspec": {
   "display_name": "Python 3",
   "language": "python",
   "name": "python3"
  },
  "language_info": {
   "codemirror_mode": {
    "name": "ipython",
    "version": 3
   },
   "file_extension": ".py",
   "mimetype": "text/x-python",
   "name": "python",
   "nbconvert_exporter": "python",
   "pygments_lexer": "ipython3",
   "version": "3.6.2"
  }
 },
 "nbformat": 4,
 "nbformat_minor": 2
}
