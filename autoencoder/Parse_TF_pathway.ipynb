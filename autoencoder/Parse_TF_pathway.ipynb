{
 "cells": [
  {
   "cell_type": "code",
   "execution_count": 22,
   "metadata": {
    "collapsed": true
   },
   "outputs": [],
   "source": [
    "import numpy as np\n",
    "import pandas as pd\n",
    "import mygene"
   ]
  },
  {
   "cell_type": "code",
   "execution_count": 23,
   "metadata": {
    "collapsed": true
   },
   "outputs": [],
   "source": [
    "# preprocessing transcription factor + gene regulation list\n",
    "# filename = \"../data/TF_network/pathway_extensions_v2.transcriptional.listt\"\n",
    "# cols = [\"TF\"] + [\"gene\"+str(i) for i in range(2500)]\n",
    "# df = pd.read_csv(filename, names=cols, delimiter=\"\\t\", low_memory=False)\n",
    "# valid_cols = df.columns[~df.isnull().all()]\n",
    "# df = df[valid_cols]\n",
    "# df.replace(np.nan, 0).to_csv(\"../data/TF_network/TF_gene.csv\", index=None)"
   ]
  },
  {
   "cell_type": "code",
   "execution_count": 20,
   "metadata": {
    "collapsed": true
   },
   "outputs": [],
   "source": [
    "df = pd.read_csv(\"../data/TF_network/TF_gene.csv\", low_memory=False)"
   ]
  },
  {
   "cell_type": "code",
   "execution_count": 21,
   "metadata": {},
   "outputs": [
    {
     "name": "stdout",
     "output_type": "stream",
     "text": [
      "number of genes in tcga 16331\n",
      "number of genes in pathway 14237\n",
      "number of common genes between tcga and pathway 11104\n"
     ]
    }
   ],
   "source": [
    "tcga_genes = list(pd.read_csv(\"../data/gene_ids.txt\", header=None)[0])\n",
    "tcga_genes = [i.split(\"|\")[0] for i in tcga_genes]\n",
    "pathway_genes = set(df.as_matrix().flatten())\n",
    "pathway_genes.remove('0')\n",
    "common_genes = set(tcga_genes).intersection(pathway_genes)\n",
    "\n",
    "print(\"number of genes in tcga\", len(set(tcga_genes)))\n",
    "assert(len(set(tcga_genes))==len(tcga_genes))\n",
    "print(\"number of genes in pathway\", len(pathway_genes))\n",
    "print(\"number of common genes between tcga and pathway\", len(common_genes))"
   ]
  }
 ],
 "metadata": {
  "kernelspec": {
   "display_name": "Python 3",
   "language": "python",
   "name": "python3"
  },
  "language_info": {
   "codemirror_mode": {
    "name": "ipython",
    "version": 3
   },
   "file_extension": ".py",
   "mimetype": "text/x-python",
   "name": "python",
   "nbconvert_exporter": "python",
   "pygments_lexer": "ipython3",
   "version": "3.6.2"
  }
 },
 "nbformat": 4,
 "nbformat_minor": 2
}
