{
 "cells": [
  {
   "cell_type": "code",
   "execution_count": 73,
   "metadata": {
    "collapsed": true
   },
   "outputs": [],
   "source": [
    "import numpy as np\n",
    "import pandas as pd\n",
    "import mygene"
   ]
  },
  {
   "cell_type": "markdown",
   "metadata": {},
   "source": [
    "### Prep-processing raw TF + gene file"
   ]
  },
  {
   "cell_type": "code",
   "execution_count": null,
   "metadata": {
    "collapsed": true
   },
   "outputs": [],
   "source": [
    "# preprocessing transcription factor + gene regulation list\n",
    "# filename = \"../data/TF_network/pathway_extensions_v2.transcriptional.listt\"\n",
    "# cols = [\"TF\"] + [\"gene\"+str(i) for i in range(2500)]\n",
    "# df = pd.read_csv(filename, names=cols, delimiter=\"\\t\", low_memory=False)\n",
    "# valid_cols = df.columns[~df.isnull().all()]\n",
    "# df = df[valid_cols]\n",
    "# df.replace(np.nan, 0).to_csv(\"../data/TF_network/TF_gene.csv\", index=None)"
   ]
  },
  {
   "cell_type": "markdown",
   "metadata": {},
   "source": [
    "### convert TF+gene file into a matrix of 0s and 1s"
   ]
  },
  {
   "cell_type": "code",
   "execution_count": null,
   "metadata": {},
   "outputs": [],
   "source": [
    "df = pd.read_csv(\"../data/TF_network/TF_gene.csv\", low_memory=False)\n",
    "pathway_genes = sorted(list(set(df.as_matrix().flatten())))\n",
    "pathway_genes.remove('0')\n",
    "assert(len(df[\"TF\"]) == len(set(df[\"TF\"])))\n",
    "assert(len(pathway_genes) == len(set(pathway_genes)))\n",
    "TFs = sorted(list(df[\"TF\"]))\n",
    "\n",
    "df_mask = pd.DataFrame(index=TFs, columns=pathway_genes)\n",
    "for row_idx, TF in enumerate(TFs):\n",
    "    if row_idx % 500 == 0:\n",
    "        print(row_idx)\n",
    "    TF_genes = set(df[df.TF == TF].as_matrix().flatten())\n",
    "    TF_genes.remove('0')\n",
    "    Not_TF_genes = [i for i in pathway_genes if i not in TF_genes]\n",
    "    df_mask.loc[TF, TF_genes] = 1 \n",
    "    df_mask.loc[TF, Not_TF_genes] = 0\n",
    "df_mask.to_csv(\"../data/TF_network/TF_gene_matrix.csv\")\n",
    "df_mask.to_hdf(\"../data/TF_network/TF_gene_matrix.hdf\", \"TF\")"
   ]
  },
  {
   "cell_type": "markdown",
   "metadata": {},
   "source": [
    "### filter for genes that exist in TCGA"
   ]
  },
  {
   "cell_type": "code",
   "execution_count": 75,
   "metadata": {},
   "outputs": [
    {
     "name": "stdout",
     "output_type": "stream",
     "text": [
      "number of genes in tcga 16331\n",
      "number of genes in pathway 14237\n",
      "number of common genes between tcga and pathway 11104\n"
     ]
    }
   ],
   "source": [
    "tcga_genes = list(pd.read_csv(\"../data/gene_ids.txt\", header=None)[0])\n",
    "tcga_genes = [i.split(\"|\")[0] for i in tcga_genes]\n",
    "df_mask = pd.read_hdf(\"../data/TF_network/TF_gene_matrix.hdf\")\n",
    "pathway_genes = list(df_mask.columns)\n",
    "common_genes = sorted(list(set(tcga_genes).intersection(pathway_genes)))\n",
    "\n",
    "print(\"number of genes in tcga\", len(set(tcga_genes)))\n",
    "print(\"number of genes in pathway\", len(pathway_genes))\n",
    "print(\"number of common genes between tcga and pathway\", len(common_genes))\n",
    "\n",
    "df_mask_tcga = df_mask[common_genes]\n",
    "common_tfs = [i for i in df_mask.index if i in common_genes]\n",
    "df_mask_tcga = df_mask_tcga.loc[common_tfs]\n",
    "print(\"shape of TF_gene_matrix after filtering for genes existing in TCGA:\")\n",
    "print(df_mask_tcga.shape)\n",
    "df_mask_t\n",
    "\n",
    "df_mask_tcga.to_hdf(\"../data/TF_network/TF_gene_matrix_filtered_by_tcga.hdf\", \"TF\")\n",
    "df_mask_tcga.to_csv(\"../data/TF_network/TF_gene_matrix_filtered_by_tcga.csv\")"
   ]
  },
  {
   "cell_type": "code",
   "execution_count": null,
   "metadata": {
    "collapsed": true
   },
   "outputs": [],
   "source": []
  }
 ],
 "metadata": {
  "kernelspec": {
   "display_name": "Python 3",
   "language": "python",
   "name": "python3"
  },
  "language_info": {
   "codemirror_mode": {
    "name": "ipython",
    "version": 3
   },
   "file_extension": ".py",
   "mimetype": "text/x-python",
   "name": "python",
   "nbconvert_exporter": "python",
   "pygments_lexer": "ipython3",
   "version": "3.6.2"
  }
 },
 "nbformat": 4,
 "nbformat_minor": 2
}
