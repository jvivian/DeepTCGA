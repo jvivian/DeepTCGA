{
 "cells": [
  {
   "cell_type": "code",
   "execution_count": 47,
   "metadata": {},
   "outputs": [
    {
     "data": {
      "text/html": [
       "\n",
       "    <div class=\"bk-root\">\n",
       "        <a href=\"https://bokeh.pydata.org\" target=\"_blank\" class=\"bk-logo bk-logo-small bk-logo-notebook\"></a>\n",
       "        <span id=\"63940f64-4193-40d9-b96c-981801f53692\">Loading BokehJS ...</span>\n",
       "    </div>"
      ]
     },
     "metadata": {},
     "output_type": "display_data"
    },
    {
     "data": {
      "application/javascript": [
       "\n",
       "(function(root) {\n",
       "  function now() {\n",
       "    return new Date();\n",
       "  }\n",
       "\n",
       "  var force = true;\n",
       "\n",
       "  if (typeof (root._bokeh_onload_callbacks) === \"undefined\" || force === true) {\n",
       "    root._bokeh_onload_callbacks = [];\n",
       "    root._bokeh_is_loading = undefined;\n",
       "  }\n",
       "\n",
       "\n",
       "  \n",
       "  if (typeof (root._bokeh_timeout) === \"undefined\" || force === true) {\n",
       "    root._bokeh_timeout = Date.now() + 5000;\n",
       "    root._bokeh_failed_load = false;\n",
       "  }\n",
       "\n",
       "  var NB_LOAD_WARNING = {'data': {'text/html':\n",
       "     \"<div style='background-color: #fdd'>\\n\"+\n",
       "     \"<p>\\n\"+\n",
       "     \"BokehJS does not appear to have successfully loaded. If loading BokehJS from CDN, this \\n\"+\n",
       "     \"may be due to a slow or bad network connection. Possible fixes:\\n\"+\n",
       "     \"</p>\\n\"+\n",
       "     \"<ul>\\n\"+\n",
       "     \"<li>re-rerun `output_notebook()` to attempt to load from CDN again, or</li>\\n\"+\n",
       "     \"<li>use INLINE resources instead, as so:</li>\\n\"+\n",
       "     \"</ul>\\n\"+\n",
       "     \"<code>\\n\"+\n",
       "     \"from bokeh.resources import INLINE\\n\"+\n",
       "     \"output_notebook(resources=INLINE)\\n\"+\n",
       "     \"</code>\\n\"+\n",
       "     \"</div>\"}};\n",
       "\n",
       "  function display_loaded() {\n",
       "    if (root.Bokeh !== undefined) {\n",
       "      var el = document.getElementById(\"63940f64-4193-40d9-b96c-981801f53692\");\n",
       "      if (el != null) {\n",
       "        el.textContent = \"BokehJS \" + Bokeh.version + \" successfully loaded.\";\n",
       "      }\n",
       "    } else if (Date.now() < root._bokeh_timeout) {\n",
       "      setTimeout(display_loaded, 100)\n",
       "    }\n",
       "  }\n",
       "\n",
       "\n",
       "  function run_callbacks() {\n",
       "    try {\n",
       "      root._bokeh_onload_callbacks.forEach(function(callback) { callback() });\n",
       "    }\n",
       "    finally {\n",
       "      delete root._bokeh_onload_callbacks\n",
       "    }\n",
       "    console.info(\"Bokeh: all callbacks have finished\");\n",
       "  }\n",
       "\n",
       "  function load_libs(js_urls, callback) {\n",
       "    root._bokeh_onload_callbacks.push(callback);\n",
       "    if (root._bokeh_is_loading > 0) {\n",
       "      console.log(\"Bokeh: BokehJS is being loaded, scheduling callback at\", now());\n",
       "      return null;\n",
       "    }\n",
       "    if (js_urls == null || js_urls.length === 0) {\n",
       "      run_callbacks();\n",
       "      return null;\n",
       "    }\n",
       "    console.log(\"Bokeh: BokehJS not loaded, scheduling load and callback at\", now());\n",
       "    root._bokeh_is_loading = js_urls.length;\n",
       "    for (var i = 0; i < js_urls.length; i++) {\n",
       "      var url = js_urls[i];\n",
       "      var s = document.createElement('script');\n",
       "      s.src = url;\n",
       "      s.async = false;\n",
       "      s.onreadystatechange = s.onload = function() {\n",
       "        root._bokeh_is_loading--;\n",
       "        if (root._bokeh_is_loading === 0) {\n",
       "          console.log(\"Bokeh: all BokehJS libraries loaded\");\n",
       "          run_callbacks()\n",
       "        }\n",
       "      };\n",
       "      s.onerror = function() {\n",
       "        console.warn(\"failed to load library \" + url);\n",
       "      };\n",
       "      console.log(\"Bokeh: injecting script tag for BokehJS library: \", url);\n",
       "      document.getElementsByTagName(\"head\")[0].appendChild(s);\n",
       "    }\n",
       "  };var element = document.getElementById(\"63940f64-4193-40d9-b96c-981801f53692\");\n",
       "  if (element == null) {\n",
       "    console.log(\"Bokeh: ERROR: autoload.js configured with elementid '63940f64-4193-40d9-b96c-981801f53692' but no matching script tag was found. \")\n",
       "    return false;\n",
       "  }\n",
       "\n",
       "  var js_urls = [\"https://cdn.pydata.org/bokeh/release/bokeh-0.12.7.min.js\", \"https://cdn.pydata.org/bokeh/release/bokeh-widgets-0.12.7.min.js\", \"https://cdn.pydata.org/bokeh/release/bokeh-tables-0.12.7.min.js\", \"https://cdn.pydata.org/bokeh/release/bokeh-gl-0.12.7.min.js\"];\n",
       "\n",
       "  var inline_js = [\n",
       "    function(Bokeh) {\n",
       "      Bokeh.set_log_level(\"info\");\n",
       "    },\n",
       "    \n",
       "    function(Bokeh) {\n",
       "      \n",
       "    },\n",
       "    \n",
       "    function(Bokeh) {\n",
       "      \n",
       "      document.getElementById(\"63940f64-4193-40d9-b96c-981801f53692\").textContent = \"BokehJS is loading...\";\n",
       "    },\n",
       "    function(Bokeh) {\n",
       "      console.log(\"Bokeh: injecting CSS: https://cdn.pydata.org/bokeh/release/bokeh-0.12.7.min.css\");\n",
       "      Bokeh.embed.inject_css(\"https://cdn.pydata.org/bokeh/release/bokeh-0.12.7.min.css\");\n",
       "      console.log(\"Bokeh: injecting CSS: https://cdn.pydata.org/bokeh/release/bokeh-widgets-0.12.7.min.css\");\n",
       "      Bokeh.embed.inject_css(\"https://cdn.pydata.org/bokeh/release/bokeh-widgets-0.12.7.min.css\");\n",
       "      console.log(\"Bokeh: injecting CSS: https://cdn.pydata.org/bokeh/release/bokeh-tables-0.12.7.min.css\");\n",
       "      Bokeh.embed.inject_css(\"https://cdn.pydata.org/bokeh/release/bokeh-tables-0.12.7.min.css\");\n",
       "    }\n",
       "  ];\n",
       "\n",
       "  function run_inline_js() {\n",
       "    \n",
       "    if ((root.Bokeh !== undefined) || (force === true)) {\n",
       "      for (var i = 0; i < inline_js.length; i++) {\n",
       "        inline_js[i].call(root, root.Bokeh);\n",
       "      }if (force === true) {\n",
       "        display_loaded();\n",
       "      }} else if (Date.now() < root._bokeh_timeout) {\n",
       "      setTimeout(run_inline_js, 100);\n",
       "    } else if (!root._bokeh_failed_load) {\n",
       "      console.log(\"Bokeh: BokehJS failed to load within specified timeout.\");\n",
       "      root._bokeh_failed_load = true;\n",
       "    } else if (force !== true) {\n",
       "      var cell = $(document.getElementById(\"63940f64-4193-40d9-b96c-981801f53692\")).parents('.cell').data().cell;\n",
       "      cell.output_area.append_execute_result(NB_LOAD_WARNING)\n",
       "    }\n",
       "\n",
       "  }\n",
       "\n",
       "  if (root._bokeh_is_loading === 0) {\n",
       "    console.log(\"Bokeh: BokehJS loaded, going straight to plotting\");\n",
       "    run_inline_js();\n",
       "  } else {\n",
       "    load_libs(js_urls, function() {\n",
       "      console.log(\"Bokeh: BokehJS plotting callback run at\", now());\n",
       "      run_inline_js();\n",
       "    });\n",
       "  }\n",
       "}(window));"
      ]
     },
     "metadata": {},
     "output_type": "display_data"
    }
   ],
   "source": [
    "import numpy as np\n",
    "import pandas as pd\n",
    "import mygene\n",
    "\n",
    "from bokeh.io import output_notebook\n",
    "from bokeh.plotting import figure, show, ColumnDataSource\n",
    "from bokeh.models import HoverTool\n",
    "from matplotlib import pyplot as plt\n",
    "\n",
    "output_notebook()\n",
    "%matplotlib inline"
   ]
  },
  {
   "cell_type": "markdown",
   "metadata": {},
   "source": [
    "### Prep-processing raw TF + gene file"
   ]
  },
  {
   "cell_type": "code",
   "execution_count": 20,
   "metadata": {
    "collapsed": true
   },
   "outputs": [],
   "source": [
    "# preprocessing transcription factor + gene regulation list\n",
    "# filename = \"../data/TF_network/pathway_extensions_v2.transcriptional.listt\"\n",
    "# cols = [\"TF\"] + [\"gene\"+str(i) for i in range(2500)]\n",
    "# df = pd.read_csv(filename, names=cols, delimiter=\"\\t\", low_memory=False)\n",
    "# valid_cols = df.columns[~df.isnull().all()]\n",
    "# df = df[valid_cols]\n",
    "# df.replace(np.nan, 0).to_csv(\"../data/TF_network/TF_gene.csv\", index=None)"
   ]
  },
  {
   "cell_type": "markdown",
   "metadata": {},
   "source": [
    "### convert TF+gene file into a matrix of 0s and 1s"
   ]
  },
  {
   "cell_type": "code",
   "execution_count": null,
   "metadata": {
    "collapsed": true
   },
   "outputs": [],
   "source": [
    "df = pd.read_csv(\"../data/TF_network/TF_gene.csv\", low_memory=False)\n",
    "pathway_genes = sorted(list(set(df.as_matrix().flatten())))\n",
    "pathway_genes.remove('0')\n",
    "assert(len(df[\"TF\"]) == len(set(df[\"TF\"])))\n",
    "assert(len(pathway_genes) == len(set(pathway_genes)))\n",
    "TFs = sorted(list(df[\"TF\"]))\n",
    "\n",
    "df_mask = pd.DataFrame(index=TFs, columns=pathway_genes)\n",
    "for row_idx, TF in enumerate(TFs):\n",
    "    if row_idx % 500 == 0:\n",
    "        print(row_idx)\n",
    "    TF_genes = set(df[df.TF == TF].as_matrix().flatten())\n",
    "    TF_genes.remove('0')\n",
    "    Not_TF_genes = [i for i in pathway_genes if i not in TF_genes]\n",
    "    df_mask.loc[TF, TF_genes] = 1 \n",
    "    df_mask.loc[TF, Not_TF_genes] = 0\n",
    "df_mask.to_csv(\"../data/TF_network/TF_gene_matrix.csv\")\n",
    "df_mask.to_hdf(\"../data/TF_network/TF_gene_matrix.hdf\", \"TF\")"
   ]
  },
  {
   "cell_type": "markdown",
   "metadata": {},
   "source": [
    "### filter for genes that exist in TCGA"
   ]
  },
  {
   "cell_type": "code",
   "execution_count": 75,
   "metadata": {},
   "outputs": [
    {
     "name": "stdout",
     "output_type": "stream",
     "text": [
      "number of genes in tcga 16331\n",
      "number of genes in pathway 14237\n",
      "number of common genes between tcga and pathway 11104\n"
     ]
    }
   ],
   "source": [
    "tcga_genes = list(pd.read_csv(\"../data/gene_ids.txt\", header=None)[0])\n",
    "tcga_genes = [i.split(\"|\")[0] for i in tcga_genes]\n",
    "df_mask = pd.read_hdf(\"../data/TF_network/TF_gene_matrix.hdf\")\n",
    "pathway_genes = list(df_mask.columns)\n",
    "common_genes = sorted(list(set(tcga_genes).intersection(pathway_genes)))\n",
    "\n",
    "print(\"number of genes in tcga\", len(set(tcga_genes)))\n",
    "print(\"number of genes in pathway\", len(pathway_genes))\n",
    "print(\"number of common genes between tcga and pathway\", len(common_genes))\n",
    "\n",
    "df_mask_tcga = df_mask[common_genes]\n",
    "common_tfs = [i for i in df_mask.index if i in common_genes]\n",
    "df_mask_tcga = df_mask_tcga.loc[common_tfs]\n",
    "\n",
    "print(\"shape of TF_gene_matrix after filtering for genes existing in TCGA:\")\n",
    "print(df_mask_tcga.shape)\n",
    "\n",
    "df_mask_tcga.to_hdf(\"../data/TF_network/TF_gene_matrix_filtered_by_tcga.hdf\", \"TF\")\n",
    "df_mask_tcga.to_csv(\"../data/TF_network/TF_gene_matrix_filtered_by_tcga.csv\")"
   ]
  },
  {
   "cell_type": "markdown",
   "metadata": {},
   "source": [
    "### Histogram of number of genes a TF regulates"
   ]
  },
  {
   "cell_type": "code",
   "execution_count": 101,
   "metadata": {
    "collapsed": true
   },
   "outputs": [],
   "source": [
    "df = pd.read_hdf(\"../data/TF_network/TF_gene_matrix_filtered_by_tcga.hdf\")"
   ]
  },
  {
   "cell_type": "code",
   "execution_count": 175,
   "metadata": {
    "collapsed": true
   },
   "outputs": [],
   "source": [
    "tf_gene_num = df.sum(axis=1).value_counts()\n",
    "tf_gene_num_cumsum = tf_gene_num.sort_index().cumsum()\n",
    "tf_gene_num_left = tf_gene_num.sum()-tf_gene_num.sort_index().cumsum()"
   ]
  },
  {
   "cell_type": "code",
   "execution_count": 188,
   "metadata": {},
   "outputs": [
    {
     "name": "stderr",
     "output_type": "stream",
     "text": [
      "/home/molly/anaconda3/lib/python3.6/site-packages/bokeh/core/json_encoder.py:80: FutureWarning: Conversion of the second argument of issubdtype from `float` to `np.floating` is deprecated. In future, it will be treated as `np.float64 == np.dtype(float).type`.\n",
      "  elif np.issubdtype(type(obj), np.float):\n"
     ]
    },
    {
     "data": {
      "text/html": [
       "\n",
       "\n",
       "    <div class=\"bk-root\">\n",
       "        <div class=\"bk-plotdiv\" id=\"700e65f9-3fe8-43d1-b433-0c1de319c839\"></div>\n",
       "    </div>\n",
       "<script type=\"text/javascript\">\n",
       "  \n",
       "  (function(root) {\n",
       "    function now() {\n",
       "      return new Date();\n",
       "    }\n",
       "  \n",
       "    var force = false;\n",
       "  \n",
       "    if (typeof (root._bokeh_onload_callbacks) === \"undefined\" || force === true) {\n",
       "      root._bokeh_onload_callbacks = [];\n",
       "      root._bokeh_is_loading = undefined;\n",
       "    }\n",
       "  \n",
       "  \n",
       "    \n",
       "    if (typeof (root._bokeh_timeout) === \"undefined\" || force === true) {\n",
       "      root._bokeh_timeout = Date.now() + 0;\n",
       "      root._bokeh_failed_load = false;\n",
       "    }\n",
       "  \n",
       "    var NB_LOAD_WARNING = {'data': {'text/html':\n",
       "       \"<div style='background-color: #fdd'>\\n\"+\n",
       "       \"<p>\\n\"+\n",
       "       \"BokehJS does not appear to have successfully loaded. If loading BokehJS from CDN, this \\n\"+\n",
       "       \"may be due to a slow or bad network connection. Possible fixes:\\n\"+\n",
       "       \"</p>\\n\"+\n",
       "       \"<ul>\\n\"+\n",
       "       \"<li>re-rerun `output_notebook()` to attempt to load from CDN again, or</li>\\n\"+\n",
       "       \"<li>use INLINE resources instead, as so:</li>\\n\"+\n",
       "       \"</ul>\\n\"+\n",
       "       \"<code>\\n\"+\n",
       "       \"from bokeh.resources import INLINE\\n\"+\n",
       "       \"output_notebook(resources=INLINE)\\n\"+\n",
       "       \"</code>\\n\"+\n",
       "       \"</div>\"}};\n",
       "  \n",
       "    function display_loaded() {\n",
       "      if (root.Bokeh !== undefined) {\n",
       "        var el = document.getElementById(\"700e65f9-3fe8-43d1-b433-0c1de319c839\");\n",
       "        if (el != null) {\n",
       "          el.textContent = \"BokehJS \" + Bokeh.version + \" successfully loaded.\";\n",
       "        }\n",
       "      } else if (Date.now() < root._bokeh_timeout) {\n",
       "        setTimeout(display_loaded, 100)\n",
       "      }\n",
       "    }\n",
       "  \n",
       "  \n",
       "    function run_callbacks() {\n",
       "      try {\n",
       "        root._bokeh_onload_callbacks.forEach(function(callback) { callback() });\n",
       "      }\n",
       "      finally {\n",
       "        delete root._bokeh_onload_callbacks\n",
       "      }\n",
       "      console.info(\"Bokeh: all callbacks have finished\");\n",
       "    }\n",
       "  \n",
       "    function load_libs(js_urls, callback) {\n",
       "      root._bokeh_onload_callbacks.push(callback);\n",
       "      if (root._bokeh_is_loading > 0) {\n",
       "        console.log(\"Bokeh: BokehJS is being loaded, scheduling callback at\", now());\n",
       "        return null;\n",
       "      }\n",
       "      if (js_urls == null || js_urls.length === 0) {\n",
       "        run_callbacks();\n",
       "        return null;\n",
       "      }\n",
       "      console.log(\"Bokeh: BokehJS not loaded, scheduling load and callback at\", now());\n",
       "      root._bokeh_is_loading = js_urls.length;\n",
       "      for (var i = 0; i < js_urls.length; i++) {\n",
       "        var url = js_urls[i];\n",
       "        var s = document.createElement('script');\n",
       "        s.src = url;\n",
       "        s.async = false;\n",
       "        s.onreadystatechange = s.onload = function() {\n",
       "          root._bokeh_is_loading--;\n",
       "          if (root._bokeh_is_loading === 0) {\n",
       "            console.log(\"Bokeh: all BokehJS libraries loaded\");\n",
       "            run_callbacks()\n",
       "          }\n",
       "        };\n",
       "        s.onerror = function() {\n",
       "          console.warn(\"failed to load library \" + url);\n",
       "        };\n",
       "        console.log(\"Bokeh: injecting script tag for BokehJS library: \", url);\n",
       "        document.getElementsByTagName(\"head\")[0].appendChild(s);\n",
       "      }\n",
       "    };var element = document.getElementById(\"700e65f9-3fe8-43d1-b433-0c1de319c839\");\n",
       "    if (element == null) {\n",
       "      console.log(\"Bokeh: ERROR: autoload.js configured with elementid '700e65f9-3fe8-43d1-b433-0c1de319c839' but no matching script tag was found. \")\n",
       "      return false;\n",
       "    }\n",
       "  \n",
       "    var js_urls = [];\n",
       "  \n",
       "    var inline_js = [\n",
       "      function(Bokeh) {\n",
       "        (function() {\n",
       "          var fn = function() {\n",
       "            var docs_json = {\"12ae3a97-2a48-44b6-84f2-868c53d77de1\":{\"roots\":{\"references\":[{\"attributes\":{\"fill_alpha\":{\"value\":0.1},\"fill_color\":{\"value\":\"#1f77b4\"},\"line_alpha\":{\"value\":0.1},\"line_color\":{\"value\":\"#1f77b4\"},\"size\":{\"units\":\"screen\",\"value\":6},\"x\":{\"field\":\"TF_num_genes\"},\"y\":{\"field\":\"sum_count\"}},\"id\":\"b5ef604f-a42b-4dbc-85b8-f8cbf42eb5ec\",\"type\":\"Circle\"},{\"attributes\":{},\"id\":\"74ad457d-01ee-4aa2-9906-584b5b950ada\",\"type\":\"BasicTickFormatter\"},{\"attributes\":{\"callback\":null},\"id\":\"8970a4ff-5bf6-46b6-a2eb-108d9e1b16df\",\"type\":\"DataRange1d\"},{\"attributes\":{\"source\":{\"id\":\"4e185788-407b-4da0-93f3-0530133fe1fc\",\"type\":\"ColumnDataSource\"}},\"id\":\"f3c344c4-da9f-4a99-afb4-f1467a46b1c3\",\"type\":\"CDSView\"},{\"attributes\":{\"active_drag\":\"auto\",\"active_inspect\":\"auto\",\"active_scroll\":\"auto\",\"active_tap\":\"auto\",\"tools\":[{\"id\":\"b25326d8-e286-42c1-a303-8b51203798db\",\"type\":\"HoverTool\"},{\"id\":\"b511a2e3-eda3-48f4-b0bc-4bcf42dc8cb4\",\"type\":\"BoxZoomTool\"},{\"id\":\"e2fbf6a8-b259-49b0-a59d-049ef7cf6a57\",\"type\":\"ResetTool\"}]},\"id\":\"34cf3104-5e34-48b7-ae45-2421c89b33b3\",\"type\":\"Toolbar\"},{\"attributes\":{\"fill_color\":{\"value\":\"red\"},\"line_color\":{\"value\":\"red\"},\"size\":{\"units\":\"screen\",\"value\":6},\"x\":{\"field\":\"TF_num_genes\"},\"y\":{\"field\":\"tf_left\"}},\"id\":\"dee8ca37-44bd-4e8b-b5ed-6fddc9e23d71\",\"type\":\"Circle\"},{\"attributes\":{\"data_source\":{\"id\":\"4e185788-407b-4da0-93f3-0530133fe1fc\",\"type\":\"ColumnDataSource\"},\"glyph\":{\"id\":\"974e6d1a-8e9a-4eed-bcde-41aea152bfd3\",\"type\":\"Circle\"},\"hover_glyph\":null,\"muted_glyph\":null,\"nonselection_glyph\":{\"id\":\"b5ef604f-a42b-4dbc-85b8-f8cbf42eb5ec\",\"type\":\"Circle\"},\"selection_glyph\":null,\"view\":{\"id\":\"f3c344c4-da9f-4a99-afb4-f1467a46b1c3\",\"type\":\"CDSView\"}},\"id\":\"ca530521-cdb7-4b66-8886-f48eb533d114\",\"type\":\"GlyphRenderer\"},{\"attributes\":{\"callback\":null},\"id\":\"8db94a6b-72bd-4298-92dd-62aefd79f91c\",\"type\":\"DataRange1d\"},{\"attributes\":{\"data_source\":{\"id\":\"4e185788-407b-4da0-93f3-0530133fe1fc\",\"type\":\"ColumnDataSource\"},\"glyph\":{\"id\":\"dee8ca37-44bd-4e8b-b5ed-6fddc9e23d71\",\"type\":\"Circle\"},\"hover_glyph\":null,\"muted_glyph\":null,\"nonselection_glyph\":{\"id\":\"ceff96fb-e7d2-4e95-a85b-a8e4c4157a7c\",\"type\":\"Circle\"},\"selection_glyph\":null,\"view\":{\"id\":\"97bb7b72-2dff-4097-a50e-062a1462a0cd\",\"type\":\"CDSView\"}},\"id\":\"ca3bab4c-6f30-4551-87fe-35e981e1111c\",\"type\":\"GlyphRenderer\"},{\"attributes\":{},\"id\":\"01de6df7-0cbe-4a1b-9b2d-b085e78baf9b\",\"type\":\"LogScale\"},{\"attributes\":{\"bottom_units\":\"screen\",\"fill_alpha\":{\"value\":0.5},\"fill_color\":{\"value\":\"lightgrey\"},\"left_units\":\"screen\",\"level\":\"overlay\",\"line_alpha\":{\"value\":1.0},\"line_color\":{\"value\":\"black\"},\"line_dash\":[4,4],\"line_width\":{\"value\":2},\"plot\":null,\"render_mode\":\"css\",\"right_units\":\"screen\",\"top_units\":\"screen\"},\"id\":\"341f870e-8d3c-4422-bbb0-71ca01ee3c7c\",\"type\":\"BoxAnnotation\"},{\"attributes\":{\"axis_label\":\"count\",\"formatter\":{\"id\":\"74ad457d-01ee-4aa2-9906-584b5b950ada\",\"type\":\"BasicTickFormatter\"},\"plot\":{\"id\":\"496ee637-3885-4ebc-a40c-59d6b3c9d450\",\"subtype\":\"Figure\",\"type\":\"Plot\"},\"ticker\":{\"id\":\"4bded866-d26b-41cb-8c3a-0e58083ce994\",\"type\":\"BasicTicker\"}},\"id\":\"91148f02-f37d-465a-8c54-bce96c07f8fd\",\"type\":\"LinearAxis\"},{\"attributes\":{},\"id\":\"5512e8cd-e5c6-4817-88f2-901b23c12d0a\",\"type\":\"LinearScale\"},{\"attributes\":{\"axis_label\":\"Number of genes a TF regulates\",\"formatter\":{\"id\":\"cc7e47bc-d7d3-4ae3-9627-8a2c1cae6b76\",\"type\":\"LogTickFormatter\"},\"plot\":{\"id\":\"496ee637-3885-4ebc-a40c-59d6b3c9d450\",\"subtype\":\"Figure\",\"type\":\"Plot\"},\"ticker\":{\"id\":\"59823f7e-19a7-46bb-90f8-dce7a8e1b93f\",\"type\":\"LogTicker\"}},\"id\":\"7e68dd55-47d5-4ebd-9801-51bac599d049\",\"type\":\"LogAxis\"},{\"attributes\":{},\"id\":\"4bded866-d26b-41cb-8c3a-0e58083ce994\",\"type\":\"BasicTicker\"},{\"attributes\":{\"below\":[{\"id\":\"7e68dd55-47d5-4ebd-9801-51bac599d049\",\"type\":\"LogAxis\"}],\"left\":[{\"id\":\"91148f02-f37d-465a-8c54-bce96c07f8fd\",\"type\":\"LinearAxis\"}],\"plot_height\":400,\"plot_width\":800,\"renderers\":[{\"id\":\"7e68dd55-47d5-4ebd-9801-51bac599d049\",\"type\":\"LogAxis\"},{\"id\":\"adada760-c401-402c-a6cc-70ba112c8504\",\"type\":\"Grid\"},{\"id\":\"91148f02-f37d-465a-8c54-bce96c07f8fd\",\"type\":\"LinearAxis\"},{\"id\":\"fa68f42e-90e1-4461-84be-8f8af4f7fa32\",\"type\":\"Grid\"},{\"id\":\"341f870e-8d3c-4422-bbb0-71ca01ee3c7c\",\"type\":\"BoxAnnotation\"},{\"id\":\"ca530521-cdb7-4b66-8886-f48eb533d114\",\"type\":\"GlyphRenderer\"},{\"id\":\"ca3bab4c-6f30-4551-87fe-35e981e1111c\",\"type\":\"GlyphRenderer\"}],\"title\":{\"id\":\"8012877d-2511-4f2c-afb7-0ee5a392112a\",\"type\":\"Title\"},\"toolbar\":{\"id\":\"34cf3104-5e34-48b7-ae45-2421c89b33b3\",\"type\":\"Toolbar\"},\"x_range\":{\"id\":\"8970a4ff-5bf6-46b6-a2eb-108d9e1b16df\",\"type\":\"DataRange1d\"},\"x_scale\":{\"id\":\"01de6df7-0cbe-4a1b-9b2d-b085e78baf9b\",\"type\":\"LogScale\"},\"y_range\":{\"id\":\"8db94a6b-72bd-4298-92dd-62aefd79f91c\",\"type\":\"DataRange1d\"},\"y_scale\":{\"id\":\"5512e8cd-e5c6-4817-88f2-901b23c12d0a\",\"type\":\"LinearScale\"}},\"id\":\"496ee637-3885-4ebc-a40c-59d6b3c9d450\",\"subtype\":\"Figure\",\"type\":\"Plot\"},{\"attributes\":{},\"id\":\"e2fbf6a8-b259-49b0-a59d-049ef7cf6a57\",\"type\":\"ResetTool\"},{\"attributes\":{\"callback\":null,\"column_names\":[\"TF_num_genes\",\"sum_count\",\"tf_left\"],\"data\":{\"TF_num_genes\":[1,2,3,4,5,6,7,8,9,10,11,12,13,14,15,16,17,18,19,20,21,22,23,24,25,26,27,28,29,30,31,32,33,34,35,36,37,38,39,40,41,43,45,46,47,48,49,51,52,53,54,55,56,58,59,60,61,62,63,66,67,68,69,70,71,72,73,74,76,78,79,80,83,84,86,87,88,90,91,92,95,96,97,99,103,107,111,112,115,117,118,120,121,122,127,128,130,132,133,134,137,138,140,141,142,143,148,150,155,156,160,161,162,167,173,174,177,178,185,188,189,191,195,196,200,202,217,221,230,232,242,255,256,265,267,271,276,277,280,287,288,291,292,302,303,308,319,327,396,398,403,404,414,425,426,430,432,436,443,444,462,464,485,513,515,518,520,548,550,571,576,587,619,637,713,792,870,1176,1274,1369,1611],\"sum_count\":[95,2742,3867,4408,4701,4885,4984,5056,5107,5149,5175,5196,5211,5219,5234,5242,5250,5257,5271,5284,5287,5293,5298,5306,5316,5319,5327,5332,5333,5339,5347,5352,5355,5358,5359,5361,5363,5366,5367,5368,5369,5371,5376,5378,5379,5383,5385,5389,5390,5393,5394,5395,5397,5398,5400,5401,5405,5406,5407,5409,5411,5412,5414,5416,5420,5421,5425,5426,5430,5433,5435,5437,5438,5440,5443,5444,5445,5447,5448,5449,5450,5451,5452,5455,5456,5457,5459,5460,5461,5462,5464,5465,5466,5467,5468,5469,5470,5471,5472,5473,5474,5476,5478,5479,5480,5481,5482,5484,5485,5486,5487,5488,5489,5490,5492,5493,5494,5495,5497,5499,5500,5501,5502,5503,5504,5505,5506,5507,5508,5509,5510,5511,5512,5513,5514,5515,5516,5517,5518,5519,5520,5521,5522,5524,5526,5527,5528,5529,5530,5531,5532,5533,5534,5535,5536,5537,5538,5539,5540,5541,5542,5543,5544,5545,5546,5547,5548,5549,5550,5551,5552,5553,5554,5555,5556,5557,5558,5559,5560,5561,5562],\"tf_left\":[5467,2820,1695,1154,861,677,578,506,455,413,387,366,351,343,328,320,312,305,291,278,275,269,264,256,246,243,235,230,229,223,215,210,207,204,203,201,199,196,195,194,193,191,186,184,183,179,177,173,172,169,168,167,165,164,162,161,157,156,155,153,151,150,148,146,142,141,137,136,132,129,127,125,124,122,119,118,117,115,114,113,112,111,110,107,106,105,103,102,101,100,98,97,96,95,94,93,92,91,90,89,88,86,84,83,82,81,80,78,77,76,75,74,73,72,70,69,68,67,65,63,62,61,60,59,58,57,56,55,54,53,52,51,50,49,48,47,46,45,44,43,42,41,40,38,36,35,34,33,32,31,30,29,28,27,26,25,24,23,22,21,20,19,18,17,16,15,14,13,12,11,10,9,8,7,6,5,4,3,2,1,0]}},\"id\":\"4e185788-407b-4da0-93f3-0530133fe1fc\",\"type\":\"ColumnDataSource\"},{\"attributes\":{\"num_minor_ticks\":10},\"id\":\"59823f7e-19a7-46bb-90f8-dce7a8e1b93f\",\"type\":\"LogTicker\"},{\"attributes\":{\"overlay\":{\"id\":\"341f870e-8d3c-4422-bbb0-71ca01ee3c7c\",\"type\":\"BoxAnnotation\"}},\"id\":\"b511a2e3-eda3-48f4-b0bc-4bcf42dc8cb4\",\"type\":\"BoxZoomTool\"},{\"attributes\":{\"fill_alpha\":{\"value\":0.1},\"fill_color\":{\"value\":\"#1f77b4\"},\"line_alpha\":{\"value\":0.1},\"line_color\":{\"value\":\"#1f77b4\"},\"size\":{\"units\":\"screen\",\"value\":6},\"x\":{\"field\":\"TF_num_genes\"},\"y\":{\"field\":\"tf_left\"}},\"id\":\"ceff96fb-e7d2-4e95-a85b-a8e4c4157a7c\",\"type\":\"Circle\"},{\"attributes\":{\"plot\":null,\"text\":\"\"},\"id\":\"8012877d-2511-4f2c-afb7-0ee5a392112a\",\"type\":\"Title\"},{\"attributes\":{\"fill_color\":{\"value\":\"blue\"},\"line_color\":{\"value\":\"blue\"},\"size\":{\"units\":\"screen\",\"value\":6},\"x\":{\"field\":\"TF_num_genes\"},\"y\":{\"field\":\"sum_count\"}},\"id\":\"974e6d1a-8e9a-4eed-bcde-41aea152bfd3\",\"type\":\"Circle\"},{\"attributes\":{\"source\":{\"id\":\"4e185788-407b-4da0-93f3-0530133fe1fc\",\"type\":\"ColumnDataSource\"}},\"id\":\"97bb7b72-2dff-4097-a50e-062a1462a0cd\",\"type\":\"CDSView\"},{\"attributes\":{\"dimension\":1,\"plot\":{\"id\":\"496ee637-3885-4ebc-a40c-59d6b3c9d450\",\"subtype\":\"Figure\",\"type\":\"Plot\"},\"ticker\":{\"id\":\"4bded866-d26b-41cb-8c3a-0e58083ce994\",\"type\":\"BasicTicker\"}},\"id\":\"fa68f42e-90e1-4461-84be-8f8af4f7fa32\",\"type\":\"Grid\"},{\"attributes\":{\"plot\":{\"id\":\"496ee637-3885-4ebc-a40c-59d6b3c9d450\",\"subtype\":\"Figure\",\"type\":\"Plot\"},\"ticker\":{\"id\":\"59823f7e-19a7-46bb-90f8-dce7a8e1b93f\",\"type\":\"LogTicker\"}},\"id\":\"adada760-c401-402c-a6cc-70ba112c8504\",\"type\":\"Grid\"},{\"attributes\":{\"ticker\":null},\"id\":\"cc7e47bc-d7d3-4ae3-9627-8a2c1cae6b76\",\"type\":\"LogTickFormatter\"},{\"attributes\":{\"callback\":null,\"tooltips\":[[\"num genes\",\"@TF_num_genes\"],[\"sum count\",\"@sum_count\"],[\"num left\",\"@tf_left\"]]},\"id\":\"b25326d8-e286-42c1-a303-8b51203798db\",\"type\":\"HoverTool\"}],\"root_ids\":[\"496ee637-3885-4ebc-a40c-59d6b3c9d450\"]},\"title\":\"Bokeh Application\",\"version\":\"0.12.7\"}};\n",
       "            var render_items = [{\"docid\":\"12ae3a97-2a48-44b6-84f2-868c53d77de1\",\"elementid\":\"700e65f9-3fe8-43d1-b433-0c1de319c839\",\"modelid\":\"496ee637-3885-4ebc-a40c-59d6b3c9d450\"}];\n",
       "            \n",
       "            Bokeh.embed.embed_items(docs_json, render_items);\n",
       "          };\n",
       "          if (document.readyState != \"loading\") fn();\n",
       "          else document.addEventListener(\"DOMContentLoaded\", fn);\n",
       "        })();\n",
       "      },\n",
       "      function(Bokeh) {\n",
       "      }\n",
       "    ];\n",
       "  \n",
       "    function run_inline_js() {\n",
       "      \n",
       "      if ((root.Bokeh !== undefined) || (force === true)) {\n",
       "        for (var i = 0; i < inline_js.length; i++) {\n",
       "          inline_js[i].call(root, root.Bokeh);\n",
       "        }if (force === true) {\n",
       "          display_loaded();\n",
       "        }} else if (Date.now() < root._bokeh_timeout) {\n",
       "        setTimeout(run_inline_js, 100);\n",
       "      } else if (!root._bokeh_failed_load) {\n",
       "        console.log(\"Bokeh: BokehJS failed to load within specified timeout.\");\n",
       "        root._bokeh_failed_load = true;\n",
       "      } else if (force !== true) {\n",
       "        var cell = $(document.getElementById(\"700e65f9-3fe8-43d1-b433-0c1de319c839\")).parents('.cell').data().cell;\n",
       "        cell.output_area.append_execute_result(NB_LOAD_WARNING)\n",
       "      }\n",
       "  \n",
       "    }\n",
       "  \n",
       "    if (root._bokeh_is_loading === 0) {\n",
       "      console.log(\"Bokeh: BokehJS loaded, going straight to plotting\");\n",
       "      run_inline_js();\n",
       "    } else {\n",
       "      load_libs(js_urls, function() {\n",
       "        console.log(\"Bokeh: BokehJS plotting callback run at\", now());\n",
       "        run_inline_js();\n",
       "      });\n",
       "    }\n",
       "  }(window));\n",
       "</script>"
      ]
     },
     "metadata": {},
     "output_type": "display_data"
    }
   ],
   "source": [
    "source = ColumnDataSource(data=dict(\n",
    "                          TF_num_genes=list(tf_gene_num_cumsum.index.astype(int)),\n",
    "                          sum_count=list(tf_gene_num_cumsum),\n",
    "                          tf_left=list(tf_gene_num_left)))\n",
    "hover = HoverTool(tooltips=[(\"num genes\", \"@TF_num_genes\"),(\"sum count\", \"@sum_count\"), (\"num left\", \"@tf_left\")])\n",
    "\n",
    "p = figure(height=400, width=800, x_axis_type=\"log\",tools=[hover, \"box_zoom\", \"reset\"])\n",
    "p.circle(\"TF_num_genes\", \"sum_count\", color=\"blue\", size=6, source=source)\n",
    "p.circle(\"TF_num_genes\", \"tf_left\", color=\"red\", size=6, source=source)\n",
    "p.xaxis.axis_label = \"Number of genes a TF regulates\"\n",
    "p.yaxis.axis_label = \"count\"\n",
    "show(p)"
   ]
  },
  {
   "cell_type": "markdown",
   "metadata": {
    "collapsed": true
   },
   "source": [
    "### Calculate sparsity "
   ]
  },
  {
   "cell_type": "code",
   "execution_count": 2,
   "metadata": {
    "collapsed": true
   },
   "outputs": [],
   "source": [
    "df_tcga = pd.read_hdf(\"../data/TF_network/TF_gene_matrix_filtered_by_tcga.hdf\")\n",
    "df = pd.read_hdf(\"../data/TF_network/TF_gene_matrix.hdf\")"
   ]
  },
  {
   "cell_type": "code",
   "execution_count": 199,
   "metadata": {},
   "outputs": [
    {
     "name": "stdout",
     "output_type": "stream",
     "text": [
      "for all genes existing in all pathway genes: 79581/95886195=0.08%\n",
      "for all genes existing in only tcga genes: 60366/61760448=0.10%\n"
     ]
    }
   ],
   "source": [
    "for name, each_df in [(\"all pathway genes\", df), (\"only tcga genes\", df_tcga)]:\n",
    "    sparse_connections = int(each_df.sum().sum())\n",
    "    fc_connections = each_df.shape[0] * each_df.shape[1]\n",
    "    sparsity = sparse_connections/fc_connections\n",
    "    print(\"for all genes existing in {0}: {1}/{2}={3:.2f}%\".format(\n",
    "        name, sparse_connections, fc_connections, sparsity*100))"
   ]
  },
  {
   "cell_type": "markdown",
   "metadata": {},
   "source": [
    "### save TCGA mRNA expression version with only genes in pathway"
   ]
  },
  {
   "cell_type": "code",
   "execution_count": 89,
   "metadata": {
    "collapsed": true
   },
   "outputs": [],
   "source": [
    "df_tcga = pd.read_hdf(\"../data/TF_network/TF_gene_matrix_filtered_by_tcga.hdf\")\n",
    "tcga_genes = list(pd.read_csv(\"../data/gene_ids.txt\", header=None)[0])\n",
    "tcga_pathway_genes = [i for i in tcga_genes if i.split(\"|\")[0] in df_tcga.columns]\n",
    "pd.DataFrame(tcga_pathway_genes)[0].to_csv(\"../data/gene_ids_tcga&pathway.txt\", index=None)\n",
    "mRNA_df = pd.read_hdf(\"../data/mRNA_lognorm_StandardScaled.hdf\", \"mRNA\")\n",
    "mRNA_df[tcga_pathway_genes].to_hdf(\n",
    "    \"../data/TF_network/mRNA_lognorm_StandardScaled_pathway_genes.hdf\", \"mRNA\")"
   ]
  },
  {
   "cell_type": "code",
   "execution_count": 93,
   "metadata": {
    "collapsed": true
   },
   "outputs": [],
   "source": [
    "df = pd.read_hdf(\"../data/TF_network/mRNA_lognorm_StandardScaled_pathway_genes.hdf\", \"mRNA\")"
   ]
  },
  {
   "cell_type": "code",
   "execution_count": 94,
   "metadata": {
    "collapsed": true
   },
   "outputs": [],
   "source": [
    "def histogram_plotter(X, title, bins=50, xlim=None):\n",
    "    sample = np.random.choice(X.as_matrix().flatten(), size=1000000)\n",
    "    plt.hist(sample, bins=bins)\n",
    "    if xlim:\n",
    "        plt.xlim(xlim)\n",
    "    plt.title(title)\n",
    "    plt.show() "
   ]
  },
  {
   "cell_type": "code",
   "execution_count": 95,
   "metadata": {
    "scrolled": false
   },
   "outputs": [
    {
     "data": {
      "image/png": "[encoded data removed]",
      "text/plain": [
       "<matplotlib.figure.Figure at 0x7effcbadcc88>"
      ]
     },
     "metadata": {},
     "output_type": "display_data"
    },
    {
     "data": {
      "image/png": "[encoded data removed]",
      "text/plain": [
       "<matplotlib.figure.Figure at 0x7effcbadc8d0>"
      ]
     },
     "metadata": {},
     "output_type": "display_data"
    }
   ],
   "source": [
    "histogram_plotter(mRNA_df, \"TCGA gene expression histogram (all 16331 genes)\", \n",
    "                  bins=200, xlim=[-6, 6])\n",
    "histogram_plotter(df, \"TCGA gene expression histogram \\n\\\n",
    "    (only 11104 common genes overlapping with pathway data)\",\n",
    "    bins=200, xlim=[-6, 6])"
   ]
  },
  {
   "cell_type": "markdown",
   "metadata": {},
   "source": [
    "### make sure all genes in mRNA and mask are in the same order, and tranposing mask"
   ]
  },
  {
   "cell_type": "code",
   "execution_count": null,
   "metadata": {},
   "outputs": [],
   "source": [
    "# make sure all genes are in the right order and trapose \n",
    "mRNA_file = \"../data/TF_network/mRNA_lognorm_StandardScaled_pathway_genes.hdf\"\n",
    "weights_mask = \"../data/TF_network/TF_gene_matrix_filtered_by_tcga.hdf\"\n",
    "mRNA_df = pd.read_hdf(mRNA_file, \"mRNA\")\n",
    "weights_df = pd.read_hdf(weights_mask)\n",
    "\n",
    "sorted_gene_ids = sorted(list(mRNA_df.columns))\n",
    "sorted_genes = [i.split(\"|\")[0] for i in sorted_gene_ids]\n",
    "\n",
    "mRNA_df = mRNA_df[sorted_gene_ids]\n",
    "weights_df = weights_df[sorted_genes].transpose()\n",
    "\n",
    "x1 = np.array([i.split(\"|\")[0] for i in mRNA_df.columns])\n",
    "x2 = np.array(weights_df.index)\n",
    "\n",
    "assert((x1==x2).all())\n",
    "weights_df.to_hdf(\"../data/TF_network/TF_gene_matrix_filtered_by_tcga.hdf\", \"mask\")"
   ]
  },
  {
   "cell_type": "code",
   "execution_count": null,
   "metadata": {
    "collapsed": true
   },
   "outputs": [],
   "source": []
  }
 ],
 "metadata": {
  "kernelspec": {
   "display_name": "Python 3",
   "language": "python",
   "name": "python3"
  },
  "language_info": {
   "codemirror_mode": {
    "name": "ipython",
    "version": 3
   },
   "file_extension": ".py",
   "mimetype": "text/x-python",
   "name": "python",
   "nbconvert_exporter": "python",
   "pygments_lexer": "ipython3",
   "version": "3.6.2"
  }
 },
 "nbformat": 4,
 "nbformat_minor": 2
}
