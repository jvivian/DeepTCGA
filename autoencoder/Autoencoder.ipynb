{
 "cells": [
  {
   "cell_type": "code",
   "execution_count": 2,
   "metadata": {},
   "outputs": [],
   "source": [
    "import pandas as pd\n",
    "import numpy as np\n",
    "import tensorflow as tf\n",
    "import time\n",
    "import datetime\n",
    "from pprint import pprint as pp\n",
    "\n",
    "import load_data"
   ]
  },
  {
   "cell_type": "code",
   "execution_count": 3,
   "metadata": {
    "collapsed": true
   },
   "outputs": [],
   "source": [
    "def fc_layer(A_prev, size_in, size_out, name=\"fully-connected\"):\n",
    "    with tf.name_scope(name):\n",
    "        w = tf.Variable(tf.truncated_normal([size_in, size_out], mean=0, stddev=0.1))\n",
    "        b = tf.Variable(tf.constant(0.1, shape=[size_out]))\n",
    "        act = tf.matmul(A_prev, w) + b\n",
    "        tf.summary.histogram(\"weights\", w)\n",
    "        tf.summary.histogram(\"biases\", b)\n",
    "        tf.summary.histogram(\"activations\", act)\n",
    "        return act, w, b\n",
    "\n",
    "    \n",
    "def build_model(x, N_IN, N_HIDDEN):\n",
    "    parameters = {}\n",
    "    z1, w1, b1 = fc_layer(x, N_IN, N_HIDDEN, name=\"fc1\")\n",
    "    parameters.update({\"z1\":z1, \"w1\": w1, \"b1\": b1})\n",
    "    hidden = tf.nn.leaky_relu(z1, name=\"hidden\")\n",
    "    x_recon, w2, b2 = fc_layer(hidden, N_HIDDEN, N_IN, name=\"fc2\")\n",
    "    parameters.update({\"w2\": w2, \"b2\": b2})\n",
    "    return x_recon, parameters\n",
    "\n",
    "\n",
    "def build_model1(x, N_IN, N_HIDDENS):\n",
    "    parameters = {}\n",
    "    \n",
    "    a1, w1, b1 = fc_layer(x, N_IN, N_HIDDENS[0], name=\"fc1\")\n",
    "    parameters.update({\"a1\":a1, \"w1\": w1, \"b1\": b1})\n",
    "    hidden1 = tf.nn.relu(a1, name=\"hidden1\")\n",
    "    \n",
    "    a2, w2, b2 = fc_layer(hidden1, N_HIDDENS[0], N_HIDDENS[1], name=\"fc2\")\n",
    "    parameters.update({\"a2\":a2, \"w2\": w2, \"b2\": b2})\n",
    "    hidden2 = tf.nn.relu(a2, name=\"hidden2\")\n",
    "    \n",
    "    a3, w3, b3 = fc_layer(hidden2, N_HIDDENS[1], N_HIDDENS[2], name=\"fc3\")\n",
    "    parameters.update({\"a3\":a3, \"w3\": w3, \"b3\": b3})\n",
    "    hidden3 = tf.nn.relu(a3, name=\"hidden3\")\n",
    "    \n",
    "    x_recon, w4, b4 = fc_layer(hidden3, N_HIDDENS[2], N_IN, name=\"fc4\")\n",
    "    parameters.update({\"w4\": w4, \"b4\": b4})\n",
    "    return x_recon, parameters\n",
    "\n",
    "\n",
    "def back_prop(x, x_recon, learning_rate):\n",
    "    loss = tf.reduce_mean(tf.square(x_recon - x))\n",
    "    train_step = tf.train.AdamOptimizer(learning_rate).minimize(loss)\n",
    "    return train_step\n",
    "\n",
    "\n",
    "def feed_forward(x, parameters):\n",
    "    w1, b1 = parameters[\"w1\"], parameters[\"b1\"]\n",
    "    hidden = tf.nn.leaky_relu(tf.matmul(x, w1) + b1)\n",
    "    w2, b2 = parameters[\"w2\"], parameters[\"b2\"]\n",
    "    x_recon = tf.matmul(hidden, w2) + b2\n",
    "    return x_recon, hidden\n",
    "\n",
    "\n",
    "def feed_forward1(x, parameters):\n",
    "    w1, b1 = parameters[\"w1\"], parameters[\"b1\"]\n",
    "    hidden1 = tf.nn.relu(tf.matmul(x, w1) + b1)\n",
    "    w2, b2 = parameters[\"w2\"], parameters[\"b2\"]\n",
    "    hidden2 = tf.nn.relu(tf.matmul(hidden1, w2) + b2)\n",
    "    w3, b3 = parameters[\"w3\"], parameters[\"b3\"]\n",
    "    hidden3 = tf.nn.relu(tf.matmul(hidden2, w3) + b3)\n",
    "    w4, b4 = parameters[\"w4\"], parameters[\"b4\"]\n",
    "    x_recon = tf.matmul(hidden3, w4) + b4\n",
    "    return x_recon, hidden2\n",
    "\n",
    "\n",
    "def mse(x, x_recon, name=\"\"):\n",
    "    mse = tf.reduce_mean(tf.square(x_recon-x))\n",
    "    mse_summary = tf.summary.scalar(name + \"_mse\", mse)\n",
    "    return mse, mse_summary"
   ]
  },
  {
   "cell_type": "code",
   "execution_count": 18,
   "metadata": {},
   "outputs": [],
   "source": [
    "def train_model(data, batch_size=128, num_epoch=1000, learning_rate=1e-3, extra=\"\"):\n",
    "    tf.reset_default_graph()\n",
    "    LOGDIR = \"/tmp/tcga_{0}\".format(datetime.datetime.today().date())\n",
    "    N_IN = data.train.num_features\n",
    "    N_OUT = data.train.num_features\n",
    "    N_HIDDEN = 2\n",
    "    \n",
    "    # train step\n",
    "    (train_batch, train_iter, val_all, val_iter, \n",
    "        train_all, train_iter_all) = data.prep_batch(batch_size=batch_size, \n",
    "                                                     count_by=\"epoch\")\n",
    "    x = train_batch[\"X\"]\n",
    "    x_recon, parameters = build_model(x, N_IN, N_HIDDEN)\n",
    "    train_step = back_prop(x, x_recon, learning_rate)\n",
    "    \n",
    "    # mse\n",
    "    x_train, x_val = train_all[\"X\"], val_all[\"X\"]\n",
    "    x_train_recon, train_latent = feed_forward(x_train, parameters)\n",
    "    x_val_recon, val_latent = feed_forward(x_val, parameters)\n",
    "    train_mse, train_summ = mse(x_train, x_train_recon, name=\"train\")\n",
    "    val_mse, val_summ = mse(x_val, x_val_recon, name=\"valiation\")\n",
    "    \n",
    "    # run\n",
    "    sess = tf.Session()\n",
    "    summ = tf.summary.merge_all()\n",
    "    writer = tf.summary.FileWriter(LOGDIR + \"ae_{0}\".format(extra))\n",
    "    writer.add_graph(sess.graph)                            \n",
    "    sess.run(tf.global_variables_initializer())\n",
    "\n",
    "    for epoch in range(num_epoch):\n",
    "        sess.run([train_iter.initializer])\n",
    "        t0 = time.time()\n",
    "        try:\n",
    "            while True:\n",
    "                sess.run(train_step)\n",
    "#             parameters_test = sess.run(parameters)\n",
    "#             print(\"summation of w1\")\n",
    "#             print(np.sum(parameters_test[\"w1\"]))\n",
    "#             print(\"summation of w2\")\n",
    "#             print(np.sum(parameters_test[\"w2\"]))\n",
    "#             for i in range(10):\n",
    "#                 sess.run(train_step)\n",
    "#             parameters_test = sess.run(parameters)\n",
    "#             print(\"summation of w1\")\n",
    "#             print(np.sum(parameters_test[\"w1\"]))\n",
    "#             print(\"summation of w2\")\n",
    "#             print(np.sum(parameters_test[\"w2\"]))\n",
    "            \n",
    "#             x_test = sess.run(x)\n",
    "#             print(\"x\")\n",
    "#             print(x_test)\n",
    "#             print(\"manually multiply to get hidden\")\n",
    "#             print(np.dot(x_test, parameters_test[\"w1\"])+parameters_test[\"b1\"])\n",
    "        except tf.errors.OutOfRangeError:\n",
    "            if epoch % 10 == 0:\n",
    "                sess.run([train_iter_all.initializer, val_iter.initializer])\n",
    "                [train_error, train_s, val_error, val_s] = sess.run(\n",
    "                [train_mse, train_summ, val_mse, val_summ])\n",
    "                writer.add_summary(train_s, epoch)\n",
    "                writer.add_summary(val_s, epoch)\n",
    "                print(\"epoch\", epoch)\n",
    "                print(\"training mse:\", train_error, \"validation mse\", val_error)\n",
    "                print(\"epoch time:\", time.time()-t0)\n",
    "    train_latent = sess.run(train_latent)\n",
    "    val_latent = sess.run(val_latent)\n",
    "    np.save(\"./results/AE/train_latent_simple2.npy\", train_latent)\n",
    "    np.save(\"./results/AE/val_latent_simple2.npy\", val_latent)    \n",
    "    sess.close()"
   ]
  },
  {
   "cell_type": "code",
   "execution_count": 19,
   "metadata": {
    "collapsed": true
   },
   "outputs": [],
   "source": [
    "# tcga = load_data.read_data_sets(\"./data/mRNA_lognorm_StandardScaled.hdf\")"
   ]
  },
  {
   "cell_type": "code",
   "execution_count": 20,
   "metadata": {
    "scrolled": false
   },
   "outputs": [
    {
     "name": "stdout",
     "output_type": "stream",
     "text": [
      "epoch 0\n",
      "training mse: 1.0829372 validation mse 1.0847688\n",
      "epoch time: 2.5375454425811768\n",
      "epoch 10\n",
      "training mse: 0.82770574 validation mse 0.8237596\n",
      "epoch time: 1.0215234756469727\n",
      "epoch 20\n",
      "training mse: 0.8236215 validation mse 0.82046366\n",
      "epoch time: 1.0327022075653076\n",
      "epoch 30\n",
      "training mse: 0.82131755 validation mse 0.81819594\n",
      "epoch time: 1.0371551513671875\n"
     ]
    }
   ],
   "source": [
    "train_model(tcga, num_epoch=40, extra=\"2_hidden\")"
   ]
  },
  {
   "cell_type": "code",
   "execution_count": 29,
   "metadata": {
    "collapsed": true
   },
   "outputs": [],
   "source": [
    "def train_model1(data, batch_size=128, num_epoch=1000, learning_rate=1e-3, extra=\"\"):\n",
    "    tf.reset_default_graph()\n",
    "    LOGDIR = \"/tmp/tcga_{0}\".format(datetime.datetime.today().date())\n",
    "    N_IN = data.train.num_features\n",
    "    N_OUT = data.train.num_features\n",
    "    N_HIDDENS = [1000, 1, 1000]\n",
    "    \n",
    "    # train step\n",
    "    (train_batch, train_iter, val_all, val_iter, \n",
    "        train_all, train_iter_all) = data.prep_train_batch(batch_size=batch_size, fold=1)\n",
    "    x = train_batch[\"X\"]\n",
    "    x_recon, parameters = build_model1(x, N_IN, N_HIDDENS)\n",
    "    train_step = back_prop(x, x_recon, learning_rate)\n",
    "    \n",
    "    # mse\n",
    "    x_train, x_val = train_all[\"X\"], val_all[\"X\"]\n",
    "    x_train_recon1, hidden2 = feed_forward1(x_train, parameters)\n",
    "    x_val_recon1, _ = feed_forward1(x_val, parameters)\n",
    "    train_mse, train_summ = mse(x_train, x_train_recon1, name=\"train\")\n",
    "    val_mse, val_summ = mse(x_val, x_val_recon1, name=\"valiation\")\n",
    "    \n",
    "    # run\n",
    "    sess = tf.Session()\n",
    "    summ = tf.summary.merge_all()\n",
    "    writer = tf.summary.FileWriter(LOGDIR + \"ae_{0}\".format(extra))\n",
    "    writer.add_graph(sess.graph)                            \n",
    "    sess.run(tf.global_variables_initializer())\n",
    "\n",
    "    for epoch in range(num_epoch):\n",
    "        sess.run([train_iter.initializer])\n",
    "        t0 = time.time()\n",
    "        try:\n",
    "            while True:\n",
    "                sess.run(train_step)\n",
    "        except tf.errors.OutOfRangeError:\n",
    "            sess.run([train_iter_all.initializer, val_iter.initializer])\n",
    "            [train_error, train_s, val_error, val_s] = sess.run(\n",
    "                [train_mse, train_summ, val_mse, val_summ])\n",
    "            writer.add_summary(train_s, epoch)\n",
    "            writer.add_summary(val_s, epoch)\n",
    "            print(\"epoch\", epoch)\n",
    "            print(\"training mse:\", train_error, \"validation mse\", val_error)\n",
    "            print(\"epoch time:\", time.time()-t0)                             \n",
    "    sess.close()"
   ]
  },
  {
   "cell_type": "code",
   "execution_count": 30,
   "metadata": {},
   "outputs": [
    {
     "name": "stdout",
     "output_type": "stream",
     "text": [
      "epoch 0\n",
      "training mse: 0.015309443 validation mse 0.015218355\n",
      "epoch time: 3.01918888092041\n"
     ]
    }
   ],
   "source": [
    "train_model1(tcga, num_epoch=1, extra=\"10_hidden\")"
   ]
  },
  {
   "cell_type": "code",
   "execution_count": null,
   "metadata": {
    "collapsed": true
   },
   "outputs": [],
   "source": []
  }
 ],
 "metadata": {
  "kernelspec": {
   "display_name": "Python 3",
   "language": "python",
   "name": "python3"
  },
  "language_info": {
   "codemirror_mode": {
    "name": "ipython",
    "version": 3
   },
   "file_extension": ".py",
   "mimetype": "text/x-python",
   "name": "python",
   "nbconvert_exporter": "python",
   "pygments_lexer": "ipython3",
   "version": "3.6.2"
  }
 },
 "nbformat": 4,
 "nbformat_minor": 2
}
