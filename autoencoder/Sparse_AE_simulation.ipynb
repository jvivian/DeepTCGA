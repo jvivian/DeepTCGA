{
 "cells": [
  {
   "cell_type": "code",
   "execution_count": 2,
   "metadata": {
    "collapsed": true
   },
   "outputs": [],
   "source": [
    "import pandas as pd\n",
    "import numpy as np\n",
    "import tensorflow as tf\n",
    "import time\n",
    "import datetime\n",
    "from pprint import pprint as pp"
   ]
  },
  {
   "cell_type": "code",
   "execution_count": 10,
   "metadata": {
    "collapsed": true
   },
   "outputs": [],
   "source": [
    "def generate_random_sparse_mask(size_in, size_out, sparsity):\n",
    "    \"\"\" make sure each node has at least one edge connecting to it\"\"\"\n",
    "    while True:\n",
    "        try:\n",
    "            a = np.random.uniform(low=0, high=1, size=(size_in, size_out))\n",
    "            a = (a>(1-sparsity)).astype(int)\n",
    "            assert((a.sum(axis=1)>1).all())\n",
    "            assert((a.sum(axis=0)>1).all())\n",
    "            break\n",
    "        except AssertionError:\n",
    "            continue\n",
    "    return tf.constant(a.astype('float32'))"
   ]
  },
  {
   "cell_type": "code",
   "execution_count": 36,
   "metadata": {
    "collapsed": true
   },
   "outputs": [],
   "source": [
    "size = (5, 3)\n",
    "lr = 100\n",
    "tf.reset_default_graph()\n",
    "mask = generate_random_sparse_mask(size[0], size[1], 0.5)\n",
    "y_dense = tf.Variable(tf.constant(np.ones(size).astype(\"float32\")))\n",
    "y_sparse = tf.Variable(tf.constant(np.ones(size).astype(\"float32\")))\n",
    "y_target = tf.constant(2*np.ones(size).astype(\"float32\"))\n",
    "loss_dense = tf.reduce_mean(tf.square(y_dense-y_target))\n",
    "step_dense = tf.train.AdadeltaOptimizer(lr).minimize(loss_dense)\n",
    "loss_sparse = tf.reduce_mean(tf.square(tf.multiply(mask, y_sparse)-tf.multiply(mask, y_target)))\n",
    "step_sparse = tf.train.AdadeltaOptimizer(lr).minimize(loss_sparse)\n",
    "\n",
    "with tf.Session() as sess:\n",
    "    sess.run(tf.global_variables_initializer())\n",
    "    y_initial = sess.run(y_dense)\n",
    "    y_target = sess.run(y_target)\n",
    "    for i in range(100):\n",
    "        sess.run([step_sparse, step_dense])\n",
    "    y_dense_weight, y_sparse_weight = sess.run([y_dense, y_sparse])\n",
    "    mask = sess.run(mask)"
   ]
  },
  {
   "cell_type": "code",
   "execution_count": 37,
   "metadata": {},
   "outputs": [
    {
     "data": {
      "text/plain": [
       "array([[1., 1., 1.],\n",
       "       [1., 1., 1.],\n",
       "       [1., 1., 1.],\n",
       "       [1., 1., 1.],\n",
       "       [1., 1., 1.]], dtype=float32)"
      ]
     },
     "execution_count": 37,
     "metadata": {},
     "output_type": "execute_result"
    }
   ],
   "source": [
    "y_initial"
   ]
  },
  {
   "cell_type": "code",
   "execution_count": 38,
   "metadata": {},
   "outputs": [
    {
     "data": {
      "text/plain": [
       "array([[2., 2., 2.],\n",
       "       [2., 2., 2.],\n",
       "       [2., 2., 2.],\n",
       "       [2., 2., 2.],\n",
       "       [2., 2., 2.]], dtype=float32)"
      ]
     },
     "execution_count": 38,
     "metadata": {},
     "output_type": "execute_result"
    }
   ],
   "source": [
    "y_target"
   ]
  },
  {
   "cell_type": "code",
   "execution_count": 39,
   "metadata": {},
   "outputs": [
    {
     "data": {
      "text/plain": [
       "array([[1.999631, 1.999631, 1.999631],\n",
       "       [1.999631, 1.999631, 1.999631],\n",
       "       [1.999631, 1.999631, 1.999631],\n",
       "       [1.999631, 1.999631, 1.999631],\n",
       "       [1.999631, 1.999631, 1.999631]], dtype=float32)"
      ]
     },
     "execution_count": 39,
     "metadata": {},
     "output_type": "execute_result"
    }
   ],
   "source": [
    "y_dense_weight"
   ]
  },
  {
   "cell_type": "code",
   "execution_count": 40,
   "metadata": {},
   "outputs": [
    {
     "data": {
      "text/plain": [
       "array([[1.      , 1.999631, 1.999631],\n",
       "       [1.999631, 1.999631, 1.999631],\n",
       "       [1.999631, 1.999631, 1.      ],\n",
       "       [1.      , 1.999631, 1.999631],\n",
       "       [1.      , 1.999631, 1.999631]], dtype=float32)"
      ]
     },
     "execution_count": 40,
     "metadata": {},
     "output_type": "execute_result"
    }
   ],
   "source": [
    "y_sparse_weight"
   ]
  },
  {
   "cell_type": "code",
   "execution_count": 41,
   "metadata": {},
   "outputs": [
    {
     "data": {
      "text/plain": [
       "array([[0., 1., 1.],\n",
       "       [1., 1., 1.],\n",
       "       [1., 1., 0.],\n",
       "       [0., 1., 1.],\n",
       "       [0., 1., 1.]], dtype=float32)"
      ]
     },
     "execution_count": 41,
     "metadata": {},
     "output_type": "execute_result"
    }
   ],
   "source": [
    "mask"
   ]
  }
 ],
 "metadata": {
  "kernelspec": {
   "display_name": "Python 3",
   "language": "python",
   "name": "python3"
  },
  "language_info": {
   "codemirror_mode": {
    "name": "ipython",
    "version": 3
   },
   "file_extension": ".py",
   "mimetype": "text/x-python",
   "name": "python",
   "nbconvert_exporter": "python",
   "pygments_lexer": "ipython3",
   "version": "3.6.2"
  }
 },
 "nbformat": 4,
 "nbformat_minor": 2
}
