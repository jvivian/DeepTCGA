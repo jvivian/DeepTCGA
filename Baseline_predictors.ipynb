{
 "cells": [
  {
   "cell_type": "code",
   "execution_count": 166,
   "metadata": {
    "collapsed": true
   },
   "outputs": [],
   "source": [
    "import tensorflow as tf\n",
    "import pandas as pd\n",
    "import numpy as np\n",
    "import time\n",
    "\n",
    "import xgboost\n",
    "from sklearn.datasets import make_classification\n",
    "from sklearn.model_selection import train_test_split, StratifiedKFold\n",
    "from sklearn.preprocessing import LabelEncoder\n",
    "from sklearn.linear_model import LogisticRegression\n",
    "from sklearn.metrics import accuracy_score, roc_auc_score"
   ]
  },
  {
   "cell_type": "code",
   "execution_count": 182,
   "metadata": {
    "collapsed": true
   },
   "outputs": [],
   "source": [
    "def run_cross_val(X, y, classifiers, n_fold=5, random_state=1):\n",
    "    kf = StratifiedKFold(n_splits=n_fold, shuffle=True, random_state=random_state)\n",
    "    result_df = pd.DataFrame()\n",
    "    fold_num = 0\n",
    "    print(\"fold\", end=\" \")\n",
    "    for train, test in kf.split(X, y):\n",
    "        fold_num += 1\n",
    "        print(fold_num, end=\", \")\n",
    "        x_train = X.iloc[train]\n",
    "        y_train = y[train]\n",
    "        x_test = X.iloc[test]\n",
    "        y_test = y[test]\n",
    "        for classifier_name, clf in classifiers.items():\n",
    "            t0 = time.time()\n",
    "            clf.fit(x_train, y_train)\n",
    "            prediction = clf.predict(x_test)\n",
    "            if fold_num == 5:\n",
    "                print(\"Fit and predict of classifier {0} takes {1} seconds\".format(\n",
    "                    classifier_name, time.time()-t0))\n",
    "            accuracy = accuracy_score(prediction, y_test)\n",
    "            result_df.loc[fold_num, classifier_name + \"_accuracy\"] = accuracy\n",
    "            if len(set(y)) == 2:\n",
    "                auc_score = roc_auc_score(prediction, y_test)\n",
    "                result_df.loc[fold_num, classifier_name + \"_auc\"] = auc_score\n",
    "    return result_df\n",
    "\n",
    "\n",
    "def prep_data(df, label):\n",
    "    X = df[df.columns[3:]]\n",
    "    X.reset_index(drop=True, inplace=True)\n",
    "    y_raw = df[label]\n",
    "    le = LabelEncoder()\n",
    "    y = le.fit_transform(y_raw)\n",
    "    return X, y, le\n",
    "\n",
    "\n",
    "Classifiers = {\"Logistic Regression\": LogisticRegression(), \n",
    "               \"XGBoost\": xgboost.XGBClassifier()}"
   ]
  },
  {
   "cell_type": "markdown",
   "metadata": {},
   "source": [
    "### Tissue Predicter"
   ]
  },
  {
   "cell_type": "code",
   "execution_count": 184,
   "metadata": {},
   "outputs": [
    {
     "name": "stdout",
     "output_type": "stream",
     "text": [
      "number of components from PCA used:  20\n",
      "fold 1, 2, 3, 4, 5, Fit and predict of classifier Logistic Regression takes 3.400779962539673 seconds\n",
      "Fit and predict of classifier XGBoost takes 4.109149217605591 seconds\n",
      "   Logistic Regression_accuracy  XGBoost_accuracy\n",
      "1                      0.900967          0.895440\n",
      "2                      0.899815          0.890120\n",
      "3                      0.899954          0.900417\n",
      "4                      0.906221          0.893686\n",
      "5                      0.898092          0.880875\n",
      "number of components from PCA used:  50\n",
      "fold 1, 2, 3, 4, 5, Fit and predict of classifier Logistic Regression takes 12.382299184799194 seconds\n",
      "Fit and predict of classifier XGBoost takes 6.736157417297363 seconds\n",
      "   Logistic Regression_accuracy  XGBoost_accuracy\n",
      "1                      0.936435          0.923538\n",
      "2                      0.936288          0.918283\n",
      "3                      0.933766          0.913386\n",
      "4                      0.939647          0.919220\n",
      "5                      0.933923          0.914844\n",
      "number of components from PCA used:  200\n",
      "fold 1, 2, 3, 4, 5, Fit and predict of classifier Logistic Regression takes 69.73295164108276 seconds\n",
      "Fit and predict of classifier XGBoost takes 20.7558810710907 seconds\n",
      "   Logistic Regression_accuracy  XGBoost_accuracy\n",
      "1                      0.954860          0.937356\n",
      "2                      0.957064          0.930748\n",
      "3                      0.949050          0.928671\n",
      "4                      0.950789          0.923398\n",
      "5                      0.948813          0.922289\n"
     ]
    }
   ],
   "source": [
    "for n_component in [20, 50, 200]:\n",
    "    print(\"number of components from PCA used: \", n_component)\n",
    "    df = pd.read_csv(\"./data/mRNA_PCA_{0}_components.csv\".format(n_component), \n",
    "                     index_col=\"sample_id\")\n",
    "    X, y, le = prep_data(df, \"label_tissue\")\n",
    "    result_df = run_cross_val(X, y, Classifiers, n_fold=5, random_state=0)\n",
    "    print(result_df)"
   ]
  },
  {
   "cell_type": "markdown",
   "metadata": {
    "collapsed": true
   },
   "source": [
    "### Tumor v.s. Normal  Predicter"
   ]
  },
  {
   "cell_type": "code",
   "execution_count": 179,
   "metadata": {},
   "outputs": [
    {
     "name": "stdout",
     "output_type": "stream",
     "text": [
      "number of components from PCA used:  20\n",
      "fold 1, 2, 3, 4, 5, Fit and predict of classifier Logistic Regression takes 0.270998477935791 seconds\n",
      "Fit and predict of classifier XGBoost takes 0.4251375198364258 seconds\n",
      "   Logistic Regression_accuracy  XGBoost_accuracy\n",
      "1                      0.970370          0.975463\n",
      "2                      0.968519          0.970833\n",
      "3                      0.968056          0.972222\n",
      "4                      0.965278          0.973148\n",
      "5                      0.970820          0.977304\n",
      "number of components from PCA used:  50\n",
      "fold 1, 2, 3, 4, 5, Fit and predict of classifier Logistic Regression takes 1.1676404476165771 seconds\n",
      "Fit and predict of classifier XGBoost takes 0.6924042701721191 seconds\n",
      "   Logistic Regression_accuracy  XGBoost_accuracy\n",
      "1                      0.982870          0.979630\n",
      "2                      0.977315          0.977315\n",
      "3                      0.975463          0.975926\n",
      "4                      0.975000          0.976389\n",
      "5                      0.979157          0.978231\n",
      "number of components from PCA used:  200\n",
      "fold 1, 2, 3, 4, 5, Fit and predict of classifier Logistic Regression takes 8.34662675857544 seconds\n",
      "Fit and predict of classifier XGBoost takes 2.2035298347473145 seconds\n",
      "   Logistic Regression_accuracy  XGBoost_accuracy\n",
      "1                      0.982870          0.981019\n",
      "2                      0.979630          0.974537\n",
      "3                      0.982407          0.977778\n",
      "4                      0.981944          0.977315\n",
      "5                      0.985178          0.978231\n"
     ]
    }
   ],
   "source": [
    "for n_component in [20, 50, 200]:\n",
    "    print(\"number of components from PCA used: \", n_component)\n",
    "    df = pd.read_csv(\"./data/mRNA_PCA_{0}_components.csv\".format(n_component), \n",
    "                     index_col=\"sample_id\")\n",
    "    X, y, le = prep_data(df, \"label\")\n",
    "    result_df = run_cross_val(X, y, Classifiers, n_fold=5, random_state=0)\n",
    "    print(result_df)"
   ]
  },
  {
   "cell_type": "markdown",
   "metadata": {},
   "source": [
    "### Gender  Predicter"
   ]
  },
  {
   "cell_type": "code",
   "execution_count": 183,
   "metadata": {},
   "outputs": [
    {
     "name": "stdout",
     "output_type": "stream",
     "text": [
      "number of components from PCA used:  20\n",
      "fold 1, 2, 3, 4, 5, Fit and predict of classifier Logistic Regression takes 0.08177328109741211 seconds\n",
      "Fit and predict of classifier XGBoost takes 0.2570624351501465 seconds\n",
      "   Logistic Regression_accuracy  Logistic Regression_auc  XGBoost_accuracy  \\\n",
      "1                      0.742249                 0.748444          0.737159   \n",
      "2                      0.720963                 0.727201          0.721888   \n",
      "3                      0.728578                 0.733513          0.742473   \n",
      "4                      0.732747                 0.738929          0.723483   \n",
      "5                      0.733210                 0.739775          0.743863   \n",
      "\n",
      "   XGBoost_auc  \n",
      "1     0.746131  \n",
      "2     0.729845  \n",
      "3     0.751429  \n",
      "4     0.731008  \n",
      "5     0.754895  \n",
      "number of components from PCA used:  50\n",
      "fold 1, 2, 3, 4, 5, Fit and predict of classifier Logistic Regression takes 0.3034799098968506 seconds\n",
      "Fit and predict of classifier XGBoost takes 0.33362722396850586 seconds\n",
      "   Logistic Regression_accuracy  Logistic Regression_auc  XGBoost_accuracy  \\\n",
      "1                      0.813050                 0.813935          0.762147   \n",
      "2                      0.799630                 0.801209          0.762147   \n",
      "3                      0.819361                 0.821135          0.769801   \n",
      "4                      0.816119                 0.816911          0.765169   \n",
      "5                      0.806855                 0.807767          0.779064   \n",
      "\n",
      "   XGBoost_auc  \n",
      "1     0.765716  \n",
      "2     0.768305  \n",
      "3     0.774679  \n",
      "4     0.769326  \n",
      "5     0.784802  \n",
      "number of components from PCA used:  200\n",
      "fold 1, 2, 3, 4, 5, Fit and predict of classifier Logistic Regression takes 2.807417154312134 seconds\n",
      "Fit and predict of classifier XGBoost takes 0.8744337558746338 seconds\n",
      "   Logistic Regression_accuracy  Logistic Regression_auc  XGBoost_accuracy  \\\n",
      "1                      0.991671                 0.991829          0.925497   \n",
      "2                      0.989820                 0.989812          0.934752   \n",
      "3                      0.986105                 0.986011          0.933302   \n",
      "4                      0.988884                 0.989177          0.937008   \n",
      "5                      0.993052                 0.993192          0.940713   \n",
      "\n",
      "   XGBoost_auc  \n",
      "1     0.925619  \n",
      "2     0.934679  \n",
      "3     0.933221  \n",
      "4     0.937167  \n",
      "5     0.941014  \n"
     ]
    }
   ],
   "source": [
    "for n_component in [20, 50, 200]:\n",
    "    print(\"number of components from PCA used: \", n_component)\n",
    "    df = pd.read_csv(\"./data/mRNA_PCA_{0}_components.csv\".format(n_component), \n",
    "                     index_col=\"sample_id\")\n",
    "    X, y, le = prep_data(df, \"label_gender\")\n",
    "    result_df = run_cross_val(X, y, Classifiers, n_fold=5, random_state=0)\n",
    "    print(result_df)"
   ]
  },
  {
   "cell_type": "code",
   "execution_count": null,
   "metadata": {
    "collapsed": true
   },
   "outputs": [],
   "source": []
  }
 ],
 "metadata": {
  "kernelspec": {
   "display_name": "Python 3",
   "language": "python",
   "name": "python3"
  },
  "language_info": {
   "codemirror_mode": {
    "name": "ipython",
    "version": 3
   },
   "file_extension": ".py",
   "mimetype": "text/x-python",
   "name": "python",
   "nbconvert_exporter": "python",
   "pygments_lexer": "ipython3",
   "version": "3.6.2"
  }
 },
 "nbformat": 4,
 "nbformat_minor": 2
}
